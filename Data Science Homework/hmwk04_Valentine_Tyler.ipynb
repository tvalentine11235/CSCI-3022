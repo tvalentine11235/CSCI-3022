{
 "cells": [
  {
   "cell_type": "markdown",
   "metadata": {},
   "source": [
    "<a/ id='top'></a>\n",
    "# Homework 4: Confidence intervals, hypothesis testing, and p-values\n",
    "***\n",
    "\n",
    "**Name**: \n",
    "\n",
    "***\n",
    "\n",
    "This assignment is due on Moodle by **5 PM on Friday 5 April**. Your solutions to theoretical questions should be done in Markdown/MathJax directly below the associated question.  Your solutions to computational questions should include any specified Python code and results as well as written commentary on your conclusions.  Remember that you are encouraged to discuss the problems with your instructors and classmates, but **you must write all code and solutions on your own**. \n",
    "\n",
    "**NOTES**: \n",
    "\n",
    "- Any relevant data sets should be available under the **Data** module on Canvas, as well as in the zipped folder in which you obtained this assignment. \n",
    "- Do **NOT** load or use any Python packages that are not available in Anaconda 3.6. \n",
    "- Because you can technically evaluate notebook cells in a non-linear order, it's a good idea to do Kernel $\\rightarrow$ Restart & Run All as a check before submitting your solutions.  That way if we need to run your code you will know that it will work as expected. \n",
    "- It is **bad form** to make your reader interpret numerical output from your code.  If a question asks you to compute some value from the data you should show your code output **AND** write a summary of the results in Markdown directly below your code. \n",
    "- You **MUST** leave all of your notebook cells **evaluated** so the graders do not need to re-evaluate them. For 100+ students, this extra time adds up, and makes the graders' lives unnecessarily more difficult.\n",
    "- This probably goes without saying, but... For any question that asks you to calculate something, you **must show all work and justify your answers to receive credit**. Sparse or nonexistent work will receive sparse or nonexistent credit. \n",
    "- Submit only this Jupyter notebook to Canvas.  Do not compress it using tar, rar, zip, etc. \n",
    "\n",
    "---\n",
    "**Shortcuts:**  [Problem 1](#p1) | [Problem 2](#p2) | [Problem 3](#p3) | [Problem 4](#p4) | [Problem 5](#p5)  \n",
    "\n",
    "---"
   ]
  },
  {
   "cell_type": "code",
   "execution_count": 2,
   "metadata": {
    "scrolled": true
   },
   "outputs": [],
   "source": [
    "import numpy as np\n",
    "import math\n",
    "import scipy.stats as stats\n",
    "import matplotlib.pyplot as plt\n",
    "import pandas as pd\n",
    "import random\n",
    "%matplotlib inline"
   ]
  },
  {
   "cell_type": "markdown",
   "metadata": {},
   "source": [
    "<br>\n",
    "\n",
    "---\n",
    "<a/ id='p1'></a>\n",
    "[Back to top](#top)\n",
    "### [20 points] Problem 1 - Exploring Confidence Intervals \n",
    "\n",
    "The [Gumbel](https://en.wikipedia.org/wiki/Gumbel_distribution) distribution is one of several distributions frequently used to model environmental extremes (for example, extreme temperatures and sea levels).  It is also fairly asymmetric, and thus interesting for investigating confidence intervals.  It is implemented in scipy.stats as [gumbel_r](https://docs.scipy.org/doc/scipy/reference/generated/scipy.stats.gumbel_r.html), where the appendix \"\\_r\" denotes the right-skewed version of the Gumbel distribution (as opposed to the left-skewed)."
   ]
  },
  {
   "cell_type": "markdown",
   "metadata": {},
   "source": [
    "**Part A**: Complete the following code cell to plot a histogram of 100 realizations from the Gumbel distribution with parameters $\\mu=8$ (location) and $\\beta=2$ (scale).  Be sure to leave this cell executed before turning in your assignment! Make your histogram faces coral with gray edges."
   ]
  },
  {
   "cell_type": "code",
   "execution_count": 9,
   "metadata": {},
   "outputs": [
    {
     "data": {
      "text/plain": [
       "(array([ 9., 18., 21., 19., 15., 10.,  4.,  0.,  2.,  2.]),\n",
       " array([ 4.97247994,  6.24998733,  7.52749471,  8.8050021 , 10.08250949,\n",
       "        11.36001688, 12.63752427, 13.91503165, 15.19253904, 16.47004643,\n",
       "        17.74755382]),\n",
       " <a list of 10 Patch objects>)"
      ]
     },
     "execution_count": 9,
     "metadata": {},
     "output_type": "execute_result"
    },
    {
     "data": {
      "image/png": "[encoded data removed]",
      "text/plain": [
       "<Figure size 576x288 with 1 Axes>"
      ]
     },
     "metadata": {
      "needs_background": "light"
     },
     "output_type": "display_data"
    }
   ],
   "source": [
    "mu = 8\n",
    "beta = 2\n",
    "n_sample = 100\n",
    "#x = stats.gumbel_r.rvs(loc = mu, scale = beta)\n",
    "\n",
    "fig, ax = plt.subplots(nrows=1, ncols=1, figsize=(8,4))\n",
    "\n",
    "gumbel = []\n",
    "for i in range(100):\n",
    "    x = stats.gumbel_r.rvs(loc = mu, scale = beta)\n",
    "    gumbel.append(x)\n",
    "\n",
    "ax.hist(gumbel, facecolor = 'coral', edgecolor = 'gray')\n"
   ]
  },
  {
   "cell_type": "markdown",
   "metadata": {},
   "source": [
    "**Part B:** Look up the analytical mean and variance of the Gumbel distribution with parameters $\\mu=8$ and $\\beta=2$ and calculate them here by hand.  Note that the Euler–Mascheroni constant can be accessed via `np.euler_gamma`. Note that the version of the Gumbel we are using is *right-skewed*, and is the version used to model maximal extreme events.\n",
    "\n",
    "Use the empirical mean from your sample in **Part A**, and the true variance of the Gumbel distribution to compute by hand a 95% confidence interval for the mean."
   ]
  },
  {
   "cell_type": "code",
   "execution_count": 47,
   "metadata": {},
   "outputs": [
    {
     "name": "stdout",
     "output_type": "stream",
     "text": [
      "8.767378253059828 9.772878843257914\n",
      "0.5027502950990433\n"
     ]
    }
   ],
   "source": [
    "anaMean = mu+np.euler_gamma*beta\n",
    "variance = math.sqrt((1/6)*(math.pi**2 * beta**2))\n",
    "gumbel = np.array(gumbel)\n",
    "#sd = (beta*math.pi)/math.sqrt(6)\n",
    "\n",
    "empMean = (np.mean(gumbel))\n",
    "z = stats.norm.ppf(.975)\n",
    "t = ((z*(variance/10)))\n",
    "\n",
    "confIntLow = empMean - t\n",
    "confIntHigh = empMean + t\n",
    "\n",
    "print(confIntLow,confIntHigh)\n",
    "\n",
    "print(t)"
   ]
  },
  {
   "cell_type": "markdown",
   "metadata": {},
   "source": [
    "Analytical Mean = 8 + (Euler-Mascheroni constant * 2)\n",
    "\n",
    "= 8 + 1.1544313298030657\n",
    "\n",
    "= 9.1544313298030657\n",
    "\n",
    "\n",
    "Emperical Mean = 9.27012854815887\n",
    "\n",
    "\n",
    "Variance = $\\sqrt{\\tfrac{1}{6}*(\\pi^2 * 4)}$\n",
    "\n",
    "= $\\sqrt{\\tfrac{1}{6}*39.47841760435743}$\n",
    "\n",
    "= 2.565099660323728\n",
    "\n",
    "\n",
    "z score for .95 = 1.959963984540054\n",
    "\n",
    "\n",
    "Low end of Confidence Interval = $9.27012854815887 - (1.959963984540054*(\\tfrac{2.565099660323728}{10}))$\n",
    "\n",
    "= $9.27012854815887 - .5027502950990433$\n",
    "\n",
    "= $8.767378253059828$\n",
    "\n",
    "\n",
    "High end of Confidence Interval = $9.27012854815887 - (1.959963984540054*(\\tfrac{2.565099660323728}{10}))$\n",
    "\n",
    "= $9.27012854815887 + .5027502950990433$\n",
    "\n",
    "= $9.772878843257914$\n",
    "\n",
    "\n",
    "Thus, our confidence interval is approximately:\n",
    "\n",
    "$[8.77, 9.77]$\n",
    "\n",
    "\n"
   ]
  },
  {
   "cell_type": "markdown",
   "metadata": {},
   "source": [
    "**Part C:  A theoretical interlude.** When Amy, the famous hedgehog data scientist, ran her solution code for **Part B**, she obtained a 95% confidence interval of $[8.81, 9.82]$ for the mean of the $Gum(\\mu=8, \\beta=2)$ distribution. For each of the following, explain why or why not the situation described is correct, given the technical definition of a 95% confidence interval we went over in class.\n",
    "\n",
    "**(i)** If you had no other evidence regarding true mean of the $Gum(\\mu=8, \\beta=2)$ distribution, you could say there is a 95% chance that its true mean falls between 8.81 and 9.82.\n",
    "\n",
    "**(ii)** If a class of 100 students all construct 95% confidence intervals for the mean of the $Gum(\\mu=8, \\beta=2)$ distribution, then we expect about 95 of their CIs to contain the true mean, and about 5 of them to miss the true mean.\n",
    "\n",
    "**(iii)** If we sample 100 random variables from the $Gum(\\mu=8, \\beta=2)$ distribution, then roughly 95% of them will be between 8.81 and 9.82."
   ]
  },
  {
   "cell_type": "markdown",
   "metadata": {
    "collapsed": true
   },
   "source": [
    "(i) This is false. What this actually means is that in repeated sampling, 95% of all of the confidence intervals obtained from those samplings will actually contain the true population mean.\n",
    "\n",
    "(ii) This is exactly correct.\n",
    "\n",
    "(iii) This is definitely false. Our confidence level says nothing about the individual intervals and the values of the individual intervals do not necessarily match the empirical means of those intervals collectively."
   ]
  },
  {
   "cell_type": "markdown",
   "metadata": {},
   "source": [
    "**Part D:** In this part you'll write a function to investigate the _coverage properties_ of a confidence interval for the mean of the Gumbel distribution. Complete the following function to randomly sample $m=500$ sample means with sample size $n=100$ for the Gumbel distribution with parameters $\\mu=8$ and $\\beta=2$.  For each random sample, compute the 66% confidence interval for the mean. Note that you actually know the variance for the true population distribution, $\\sigma^2$ from Part B.  Your function should do two things: \n",
    "\n",
    "1. Report the proportion of confidence intervals that successfully cover the true mean of the distribution \n",
    "2. Make a plot of 50 randomly selected confidence intervals. Overlay the intervals on the line $y=\\textrm{True mean}$ (from **Part B**). Color confidence intervals steelblue if they cover the true mean, and coral if they don't.  \n",
    "\n",
    "Be sure to leave this cell executed before turning in your assignment!"
   ]
  },
  {
   "cell_type": "code",
   "execution_count": 80,
   "metadata": {},
   "outputs": [
    {
     "name": "stdout",
     "output_type": "stream",
     "text": [
      "[[9.001929558638231, 9.491435351985832], [8.969940282392747, 9.459446075740347], [9.161428456122449, 9.65093424947005], [9.007194803629021, 9.496700596976622], [9.120217664617897, 9.609723457965497], [9.260853144297721, 9.750358937645322], [8.879067471037425, 9.368573264385025], [9.255879661816872, 9.745385455164472], [8.952170122573424, 9.441675915921024], [8.954198357116, 9.443704150463601], [8.88478856262974, 9.37429435597734], [9.20208805328837, 9.691593846635971], [8.99376460688931, 9.48327040023691], [8.717702638856984, 9.207208432204585], [9.241116552272919, 9.73062234562052], [9.192573070616177, 9.682078863963778], [8.826568199198713, 9.316073992546313], [9.262900354110814, 9.752406147458414], [8.884199406705482, 9.373705200053083], [8.49178138016151, 8.981287173509111], [8.578195115247448, 9.067700908595048], [8.792690896082082, 9.282196689429682], [9.271294469961209, 9.76080026330881], [8.620328679424828, 9.109834472772429], [8.92854048612854, 9.41804627947614], [9.268612666032356, 9.758118459379956], [9.31043987810284, 9.799945671450441], [8.931097821596977, 9.420603614944577], [8.794947606152055, 9.284453399499656], [8.996297619190836, 9.485803412538436], [8.801843327190701, 9.291349120538301], [8.71655287030027, 9.20605866364787], [8.781662322945476, 9.271168116293076], [8.822671720860898, 9.312177514208498], [8.973820307653932, 9.463326101001533], [8.812448440164248, 9.301954233511848], [8.856117059967834, 9.345622853315435], [9.45231462609398, 9.94182041944158], [8.769510244777772, 9.259016038125372], [8.776971139495425, 9.266476932843025], [8.481482222711108, 8.970988016058708], [8.774971957683308, 9.264477751030908], [9.05135121003094, 9.540857003378541], [9.622847792256907, 10.112353585604508], [8.694863750675152, 9.184369544022752], [8.912423527979248, 9.401929321326849], [9.302148987103672, 9.791654780451273], [9.073340785295432, 9.562846578643033], [9.325241994429804, 9.814747787777405], [9.00657617624009, 9.49608196958769]]\n"
     ]
    },
    {
     "data": {
      "image/png": "[encoded data removed]",
      "text/plain": [
       "<Figure size 864x432 with 1 Axes>"
      ]
     },
     "metadata": {
      "needs_background": "light"
     },
     "output_type": "display_data"
    }
   ],
   "source": [
    "# GIVEN CODE:\n",
    "\n",
    "def confidence_intervals(m=500, n=100):\n",
    "    mu = 8\n",
    "    beta = 2\n",
    "    z = stats.norm.ppf(.83)\n",
    "    t = ((z*(variance/10)))\n",
    "    \n",
    "    confIntArray = []\n",
    "    \n",
    "    for i in range(500):\n",
    "        gumbel = []\n",
    "        empMean = 0\n",
    "        for j in range(100):\n",
    "            x = stats.gumbel_r.rvs(loc = mu, scale = beta)\n",
    "            gumbel.append(x)\n",
    "        empMean = np.mean(gumbel)\n",
    "        CIL = empMean - t\n",
    "        CIH = empMean + t\n",
    "        confIntArray.append([CIL,CIH])\n",
    "        \n",
    "    newArray = random.sample(confIntArray,50)\n",
    "    print(newArray)\n",
    "    \n",
    "    fig, ax = plt.subplots(nrows=1, ncols=1, figsize=(12,6))\n",
    "    plt.axhline(y = anaMean, color = 'black', linestyle = '-')\n",
    "    for i in range(50):\n",
    "        if((newArray[i][0] > anaMean) or (newArray[i][1] < anaMean)):\n",
    "            ax.errorbar([i, i], [newArray[i][0], newArray[i][1]], color = 'coral')\n",
    "        else:\n",
    "            ax.errorbar([i, i], [newArray[i][0], newArray[i][1]], color = 'steelblue')\n",
    "    \n",
    "    \n",
    "    \n",
    "    \n",
    "    \n",
    "confidence_intervals()\n"
   ]
  },
  {
   "cell_type": "markdown",
   "metadata": {},
   "source": [
    "**Part E:** Does the proportion of confidence intervals that cover the true mean of the distribution agree with the theory described in class?  Justify your conclusion. "
   ]
  },
  {
   "cell_type": "markdown",
   "metadata": {
    "collapsed": true
   },
   "source": [
    "According to the theory in class, in repeated sampling 66% of the CIs obtained from said sampling will contain the true population mean. 32 of my 50 CIs contained the true population mean. This represents 64% of the total samples, very close to the predicted 66%, thus it does agree."
   ]
  },
  {
   "cell_type": "markdown",
   "metadata": {},
   "source": [
    "---\n",
    "\n",
    "<a id='p2'></a>\n",
    "[Back to top](#top)\n",
    "\n",
    "### [20 points] Problem 2 - Taco Town!!\n",
    "\n",
    "You're an intern in the office of the City of Boulder's official Food Rater, and in order to support her in her extremely important job, you have to determine whether Taco Bell or Del Taco has the empirically better tacos. \n",
    "\n",
    "\"Don't worry,\" you tell your boss. \"I'll have you know I graduated top of my class from CU Boulder, and I've been involved in numerous data science operations on difficult data sets - many of which are hedgehog-related - and I have over 300 confirmed confidence intervals. I am trained in Numpy and Pandas and I'm the top data scientist in the entire campus.\"\n",
    "\n",
    "\"Weird flex but OK,\" your boss responds, and gives you the data. The data set consists of 100 diners who ate both Taco Bell and Del Taco, and rated their meal enjoyment at each. As is often the case with fast food taco establishments, each diner ate alone and each meal was followed by about 3 weeks of intense therapy, so the diners and meals may all be considered to be independent of one another. The meal enjoyment ratings are in units of *mehs*, where lower values denote more disgust and a worse meal, and higher values are better."
   ]
  },
  {
   "cell_type": "markdown",
   "metadata": {},
   "source": [
    "**Part A:** Import the data set `taco_time.csv` as a Pandas DataFrame.\n",
    "\n",
    "Then, plot a density histogram of the data. Include both Taco Bell and Del Taco on the same set of axes. Be sure to label your axes, and make the histogram faces slightly transparent and include a legend, so we can tell the two data sets apart. Use colors for each restaurant that are representative of that restaurant's logo or branding.\n",
    "\n",
    "Finally, formulate a hypothesis about which restaurant has the higher mean meal enjoyment."
   ]
  },
  {
   "cell_type": "code",
   "execution_count": 5,
   "metadata": {},
   "outputs": [],
   "source": [
    "df = pd.read_csv(\"taco_time.csv\")"
   ]
  },
  {
   "cell_type": "code",
   "execution_count": 34,
   "metadata": {},
   "outputs": [
    {
     "data": {
      "image/png": "[encoded data removed]",
      "text/plain": [
       "<Figure size 576x288 with 1 Axes>"
      ]
     },
     "metadata": {
      "needs_background": "light"
     },
     "output_type": "display_data"
    }
   ],
   "source": [
    "dfTB = df[['Taco Bell']]\n",
    "dfDT = df[['Del Taco']]\n",
    "dfTB.head()\n",
    "\n",
    "my_bins = range(-5,5,1)\n",
    "\n",
    "fig, ax = plt.subplots(figsize=(8,4))\n",
    "dfTB.hist(column=\"Taco Bell\", ax=ax, bins = my_bins, facecolor = 'purple', edgecolor = 'white', label = \"Taco Bell\", stacked = True, density = True, alpha = .7);\n",
    "dfDT.hist(column=\"Del Taco\", ax=ax, bins = my_bins, facecolor = 'red', edgecolor = 'gold', label = \"Del Taco\", stacked = True, density = True, alpha = .7);\n",
    "plt.legend();\n",
    "ax.set_title(\"Taco Enjoyment\", fontsize = 34);\n",
    "ax.set_xlabel(\"Meh Rating\", fontsize = 16);\n",
    "ax.set_ylabel(\"Densitiy\", fontsize = 16);"
   ]
  },
  {
   "cell_type": "markdown",
   "metadata": {},
   "source": [
    "Taco Bell's meh rating density is higher so we can say that their customers didn't hate themselves after eating there quite as much as the poor, lost souls who ended up at Del Taco."
   ]
  },
  {
   "cell_type": "markdown",
   "metadata": {},
   "source": [
    "**Part B:** Compute a 95% confidence interval for the mean enjoyment of Taco Bell meals, and a separate 95% confidence interval for the mean enjoyment of Del Taco meals. You can use Python as a calculator, but the set-up and groundwork for your computation should be in Markdown/MathJax.\n",
    "\n",
    "Based on those confidence intervals, can we conclude that the means are different at the 95% level of confidence?"
   ]
  },
  {
   "cell_type": "code",
   "execution_count": 53,
   "metadata": {},
   "outputs": [],
   "source": [
    "TBmean = dfTB.mean()\n",
    "DTmean = dfDT.mean()\n",
    "\n",
    "TBstd = dfTB.std()\n",
    "DTstd = dfDT.std()\n",
    "\n",
    "z = stats.norm.ppf(.975)\n",
    "\n",
    "TBt = ((z*(TBstd/10)))\n",
    "DTt = ((z*(DTstd/10)))\n",
    "\n",
    "TBCIL = TBmean - TBt\n",
    "TBCIH = TBmean + TBt\n",
    "DTCIL = DTmean - DTt\n",
    "DTCIH = DTmean + DTt\n",
    "\n",
    "\n"
   ]
  },
  {
   "cell_type": "markdown",
   "metadata": {},
   "source": [
    "Taco Bell mean/standard deviation  = -0.113692/1.882502\n",
    "\n",
    "Del Taco mean/standard deviation = -0.834347/1.90965\n",
    "\n",
    "z score for 95% = 1.96\n",
    "\n",
    "\n",
    "\n",
    "Confidence Interval for Taco Bell\n",
    "\n",
    "= $-0.113692 \\pm (z*\\tfrac{1.882502}{\\sqrt{100}})$\n",
    "\n",
    "= $(-0.482655,.255272)$\n",
    "\n",
    "\n",
    "\n",
    "Confidence Interval for Del Taco\n",
    "\n",
    "= $-0.834347 \\pm (z*\\tfrac{1.90965}{\\sqrt{100}})$\n",
    "\n",
    "= $(-1.208632,-0.460063)$"
   ]
  },
  {
   "cell_type": "markdown",
   "metadata": {},
   "source": [
    "Because these two confidence intervals overlap slightly, we can not say that, at the 95% confidence interval, the means are different. "
   ]
  },
  {
   "cell_type": "markdown",
   "metadata": {},
   "source": [
    "**Part C:** Compute a 95% confidence interval for the difference between the mean enjoyment of Taco Bell and Del Taco food. "
   ]
  },
  {
   "cell_type": "code",
   "execution_count": 64,
   "metadata": {},
   "outputs": [
    {
     "name": "stdout",
     "output_type": "stream",
     "text": [
      "95% Confidence Interval for the Difference Between Mean Enjoyments = (0.6674, 0.7739)\n"
     ]
    }
   ],
   "source": [
    "low = round((float(TBmean) - float(DTmean)) - (z * (float(TBstd) - float(DTstd))),4)\n",
    "high = round((float(TBmean) - float(DTmean)) + (z * (float(TBstd) - float(DTstd))),4)\n",
    "\n",
    "print(\"95% Confidence Interval for the Difference Between Mean Enjoyments =\",(high,low))"
   ]
  },
  {
   "cell_type": "markdown",
   "metadata": {},
   "source": [
    "**Part D:** Comment on how the results from this two-sample confidence interval compare to the results from the separate one-sample confidence intervals. In 1-2 sentences, discuss how these results confirm, disprove, or otherwise relate to your hypothesis from Part A."
   ]
  },
  {
   "cell_type": "markdown",
   "metadata": {
    "collapsed": true
   },
   "source": [
    "The results of our one sample confidence intervals insinuated that Taco Bell was between .71 mehs on the low end and .72 mehs on the high end better than Del Taco. The 95% confidence interval for the difference between the means confirms this result showing that over many samples, the difference between the means would fall between .6674 and .7739 95% of the time. Thus, the hypothesis that Taco Bell food is not quite as disgusting as Del Taco food is likely true!"
   ]
  },
  {
   "cell_type": "markdown",
   "metadata": {},
   "source": [
    "---\n",
    "[Back to top](#top)\n",
    "<a id='p3'></a>\n",
    "\n",
    "### [20 points] Problem 3 - Evaluating Vehicle Performance \n",
    "\n",
    "A [1983 study](http://citeseerx.ist.psu.edu/viewdoc/download?doi=10.1.1.34.6358&rep=rep1&type=pdf) evaluated the gas mileage of a variety of cars manufactured between 1970 and 1983. The study also compiled other interesting attributes for each vehicle, but we will focus on the number of cylinders in the engine for this problem. More information on the data is available [here](https://archive.ics.uci.edu/ml/machine-learning-databases/auto-mpg/). Gas mileage is measured in miles-per-gallon, or mpg.\n",
    "\n",
    "**Part A:** Read the data set and store as a Pandas DataFrame. You will need figure out what additional arguments to `pd.read_csv()` must be provided in order to read the data set properly, based on what represents a separation between two columns of data.\n",
    "\n",
    "Then, be sure to give all of the columns informative names, if they do not already have some.\n",
    "\n",
    "Finally, use `drop_na()` to drop any rows with missing values. Missing values are reported with a \"?\"."
   ]
  },
  {
   "cell_type": "code",
   "execution_count": 11,
   "metadata": {},
   "outputs": [],
   "source": [
    "dfMPG = pd.read_csv('auto-mpg.data', delim_whitespace = True, header = None, names = [\"MPG\",\"Cylinders\",\"Cubic Inches\",\"Horsepower\",\"Weight\",\"0-60 secs\",\"Model Year\",\"Country Code\",\"Name(Make/Model)\"], na_values = '?')\n",
    "\n",
    "dfMPG = dfMPG.dropna()\n",
    "\n"
   ]
  },
  {
   "cell_type": "markdown",
   "metadata": {},
   "source": [
    "**Part B**: Assuming the data in this sample are representative of cars from the 1970-1983 time period, find a 90% confidence interval for the mean gas mileage (mpg) of all vehicles from this period. Can we conclude that the mean gas mileage is higher than 20 mpg? Be sure to show all calculations in Python. "
   ]
  },
  {
   "cell_type": "code",
   "execution_count": 12,
   "metadata": {},
   "outputs": [
    {
     "name": "stdout",
     "output_type": "stream",
     "text": [
      "(22.797496657205375, 24.094340077488507)\n"
     ]
    }
   ],
   "source": [
    "mpg = dfMPG[[\"MPG\"]]\n",
    "mean = float(mpg.mean())\n",
    "std = float(mpg.std())\n",
    "z = stats.norm.ppf(.95)\n",
    "numSamp = float(len(mpg.index))\n",
    "\n",
    "mpgCIL = mean - (z*(std/math.sqrt(numSamp)))\n",
    "mpgCIH = mean + (z*(std/math.sqrt(numSamp)))\n",
    "\n",
    "mpgCI = (mpgCIL,mpgCIH)\n",
    "\n",
    "print(mpgCI)\n",
    "\n",
    "\n"
   ]
  },
  {
   "cell_type": "markdown",
   "metadata": {},
   "source": [
    "Based on the 90% confidence interval we can say that over a period of random sampling 90% of the samples would have a mean gas mileage above 22.7mpg. Thus, it is safe to say that the mean gas mileage is higher than 20mpg."
   ]
  },
  {
   "cell_type": "markdown",
   "metadata": {},
   "source": [
    "**Part C**: You are considering buying a new car, but since [gas prices have recently increased dramatically](https://www.energy.gov/eere/vehicles/fact-915-march-7-2016-average-historical-annual-gasoline-pump-price-1929-2015), you are concerned about getting good fuel economy.\n",
    "\n",
    "Using an appropriate *hypothesis test*, can you conclude at the $\\alpha=0.01$ significance level that the mean gas mileage for vehicles with 4 or 6 cylinder engines is more than 10 mpg better than the mean gas mileage for vehicles with 8 cylinder engines? You may consider two populations here: those vehicles with 4 or 6 cylinders, and those vehicles with 8 cylinders in their engines. Be sure to clearly describe your hypotheses and methodology, and show all relevant computations in Python. "
   ]
  },
  {
   "cell_type": "code",
   "execution_count": 22,
   "metadata": {},
   "outputs": [
    {
     "name": "stdout",
     "output_type": "stream",
     "text": [
      "0.0005937816137021601\n"
     ]
    }
   ],
   "source": [
    "small = dfMPG.loc[(dfMPG['Cylinders'] == 4) | (dfMPG['Cylinders'] == 6)]\n",
    "big = dfMPG.loc[(dfMPG['Cylinders'] == 8)]\n",
    "small = small[['MPG']]\n",
    "big = big[['MPG']]\n",
    "\n",
    "Smean = float(small.mean())\n",
    "Bmean = float(big.mean())\n",
    "\n",
    "Sstd = float(small.std())\n",
    "Bstd = float(big.std())\n",
    "\n",
    "Ssize = len(small)\n",
    "Bsize = len(big)\n",
    "\n",
    "z = ((Smean - Bmean) - 10) / (math.sqrt((Sstd**2/Ssize)+(Bstd**2/Bsize)))\n",
    "\n",
    "p = 1-stats.norm.cdf(z)\n",
    "\n",
    "print(p)"
   ]
  },
  {
   "cell_type": "markdown",
   "metadata": {},
   "source": [
    "$H_0: \\mu_1 - \\mu_2 = 10$ null hypothesis: 4&6 cylinder cars do not have more than 10mpg better gas mileage at the .01 significance level.\n",
    "\n",
    "$H_1: \\mu_1 - \\mu_2 > 10$ alt hypothesis: 4&6 cylinder cars do have more than 10mpg better gas mileage at the .01 significance level.\n",
    "\n",
    "$.00059378 < .01$ Thus, we will reject the null hypothesis and we can say that four and six cylinder cars do have more than 10mpg better gas mileage than eight cylinder cars at the .01 significance level."
   ]
  },
  {
   "cell_type": "markdown",
   "metadata": {},
   "source": [
    "---\n",
    "[Back to top](#top)\n",
    "<a id='p4'></a>\n",
    "\n",
    "### [20 points] Problem 4 - Grab bag!\n",
    "\n"
   ]
  },
  {
   "cell_type": "markdown",
   "metadata": {},
   "source": [
    "<img src=\"http://blog.localditch.com/wp-content/uploads/2011/01/sonic4.jpg\" style=\"width: 400px;\"/>\n",
    "\n",
    "**Part A**: You work for an engineering firm that has been hired to construct a corkscrew-shaped looped path for hedgehogs to run on and collect gold rings. Thousands of hedgehogs will run along this path each day, so structural failure means injury or death for many wonderful little creatures. \n",
    "\n",
    "You are in charge of quality control for the average strength of carbon fiber that will be used to construct the corkscrew path. Thinking back fondly to your days in CSCI 3022, you set up a hypothesis test in which your alternative hypothesis is that the strength of the carbon fiber is below tolerance, and therefore unsafe. What is the null hypothesis? Would you rather have a low Type I error rate or a low Type II error rate? Explain."
   ]
  },
  {
   "cell_type": "markdown",
   "metadata": {
    "collapsed": true
   },
   "source": [
    "**ANSWER Part A**\n",
    "\n",
    "The null hypothesis will be that the strength of the carbon fiber is at or above tolerance and it is safe for hedgehogs to run on.\n",
    "\n",
    "Type I errors involve the null hypothesis being rejected when it is true. Type II errors involve not rejecting the null hypothesis when it is false. In this case, a type I error could be financially costly as it would involve rebuilding a path that did not need to be rebuild, however, Type II errors would be MUCH worse. Type II errors would result in paths that were below tolerance passing inspection and potentially costing the world innocent hedgehog lives, a MASSIVE tragedy!"
   ]
  },
  {
   "cell_type": "markdown",
   "metadata": {},
   "source": [
    "**Part B**: Amy, the famous hedgehog data scientist, is working for the same engineering firm as you. She is a legend around the office! Word around the water cooler is that out of all of the 95% confidence intervals that Amy has constructed, 931 of them have turned out to actually capture the true population mean. Since Amy is a data science wizard and you can be sure she is constructing her confidence intervals correctly and collecting and using her data honestly, about how many 95% confidence intervals would you expect her to have constructed total? Explain your reasoning fully with words as well as some math."
   ]
  },
  {
   "cell_type": "markdown",
   "metadata": {
    "collapsed": true
   },
   "source": [
    "**ANSWER Part B**\n",
    "\n",
    "I would expect Amy, the myth, the legend, to have constructed exactly 980 95% confidence intervals. We know that, if constructed correctly, a random sampling of 95% confidence intervals will capture the true population mean 95% of the time, thus, because Amy has collected and used all of her data nearly perfectly we would expect her to capture the true mean 95% of the time.\n",
    "\n",
    "$\\frac{931}{980} = .95$ hence the 980 total intervals prediction."
   ]
  },
  {
   "cell_type": "markdown",
   "metadata": {},
   "source": [
    "**Part C**: As part of an outreach program, you and Amy are visiting a local elementary school to talk to the students about data science. What a riot! One of the more astute students asks you a question: \"In general, which is wider: a 95% confidence interval or a 99% confidence interval?\"\n",
    "\n",
    "How would you explain this to these young students, who are not fluent in any kind of science? (So, for example, spouting off theory and words like \"mean\" and \"z critical value\" probably won't mean anything to them.)"
   ]
  },
  {
   "cell_type": "markdown",
   "metadata": {
    "collapsed": true
   },
   "source": [
    "**ANSWER Part C**\n",
    "\n",
    "I would reply to this wonderful young person that a 99% confidence interval is necessarily wider than a 95% confidence interval. Furthmore I would explain that for a given population, taking a random sampling of 100 99% confidence intervals will find the magic number we are looking for 99 times while taking a random sampling of 100 95% confidence intervals will only find the magic number 95 times. Since the 99% confidence interval found the magic number 4 more times it stands to reason that the bounds of where it was looking for said magic number were certainly wider!"
   ]
  },
  {
   "cell_type": "markdown",
   "metadata": {},
   "source": [
    "**Part D:** You observe a sample of 73 pygmy hedgehogs and find that 49 of them are fantastic pets. Then, you observe a sample of 58 long-eared hedgehogs and find that 51 of them are fantastic pets.\n",
    "\n",
    "Is there statistical evidence at the 0.05 significance level that the true proportion of long-eared hedgehogs that make fantastic pets is 10% higher than the true proportion of pygmy hedgehogs that make fantastic pets? Perform a test that computes and properly interprets a p-value."
   ]
  },
  {
   "cell_type": "code",
   "execution_count": 47,
   "metadata": {},
   "outputs": [
    {
     "name": "stdout",
     "output_type": "stream",
     "text": [
      "0.020274516816835564\n"
     ]
    }
   ],
   "source": [
    "p1 = (51/58)\n",
    "p2 = (49/73)\n",
    "\n",
    "n1 = 58\n",
    "n2 = 73\n",
    "\n",
    "z = ((p1-p2) - .1) / math.sqrt(((.1 * .9)/n1) + ((.1 * .9) / n2))\n",
    "\n",
    "p = 1-stats.norm.cdf(z)\n",
    "\n",
    "print(p)\n"
   ]
  },
  {
   "cell_type": "markdown",
   "metadata": {},
   "source": [
    "**ANSWER Part D**\n",
    "\n",
    "$H_0: \\hat{P}_1 - \\hat{P}_2 < .1$ Null hypothesis: The proportion of long-eared hedgehogs that make fantasic pets is less than 10% higher than pygmy hedgehogs.\n",
    "\n",
    "$H_0: \\hat{P}_1 - \\hat{P}_2 \\ge .1$ Alternate hypothesis: The proportion of long-eared hedgehogs that make fantasic pets is greater than or equal to 10% higher than pygmy hedgehogs.\n",
    "\n",
    "Because .0203 < .05 we can reject the null hypothesis and conclude that the proportion of long-eared hedgehogs that make fantasic pets is greater than or equal to 10% higher than pygmy hedgehogs."
   ]
  },
  {
   "cell_type": "markdown",
   "metadata": {},
   "source": [
    "**Part E**: Let $X$ be a normally-distributed random variable representing the difficulty of a homework problem in CSCI 3022. You draw from it more times than you care to count during the Spring 2019 semester and get the following values, stored in the numpy array **toughness**, below. Compute a 90% confidence interval for the _standard deviation_ in problem toughness."
   ]
  },
  {
   "cell_type": "code",
   "execution_count": 53,
   "metadata": {},
   "outputs": [
    {
     "name": "stdout",
     "output_type": "stream",
     "text": [
      "(0.9552238150869232, 2.058967952294503)\n"
     ]
    }
   ],
   "source": [
    "toughness = np.array([7.7778,6.9459,5.8248,9.1111,6.0180,5.0898,7.0380,8.9273,2.9614,5.8387,6.0231])\n",
    "sd = np.std(toughness)\n",
    "var = sd**2\n",
    "x2U = stats.chi2.ppf(.95,10)\n",
    "x2L = stats.chi2.ppf(.05,10)\n",
    "lowA = math.sqrt((10*sd)/x2U)\n",
    "highA = math.sqrt((10*sd)/x2L)\n",
    "print((lowA,highA))"
   ]
  },
  {
   "cell_type": "markdown",
   "metadata": {
    "collapsed": true
   },
   "source": [
    "**ANSWER Part E**\n",
    "\n",
    "Our 90% confidence interval is (.955224,2.05897)"
   ]
  },
  {
   "cell_type": "markdown",
   "metadata": {},
   "source": [
    "---\n",
    "\n",
    "<a id='p5'></a>\n",
    "[Back to top](#top)\n",
    "\n",
    "### [20 points] Problem 5 - Lies, damned lies, and statistics\n",
    "\n",
    "![frazz](http://3.bp.blogspot.com/-SbQUWRfHFXk/VdN8YWAy0WI/AAAAAAAAJLw/Ij5E0CbYk6g/s1600/lies3.gif)\n",
    "\n",
    "Legend of your Data Science prowess has spread o'er the land. You have been contacted by a shadowy organization to assess whether there is statistical evidence for sea-level rise in the area of Key West, Florida. You obtain from the University of Hawaii Sea Level Center's [gigantic repository of sea-level data](https://uhslc.soest.hawaii.edu/data/?rq) the daily mean sea levels file included in the zip folder for this assignment. The columns are, in order, the year, month, day-of-month and measured sea level (in millimeters)."
   ]
  },
  {
   "cell_type": "markdown",
   "metadata": {},
   "source": [
    "**Part A:** Load the data `sealevel_keywest.csv` into a Pandas DataFrame. Rename the columns as something meaningful in the context of this problem. Print to the screen the first 7 rows from your updated DataFrame."
   ]
  },
  {
   "cell_type": "code",
   "execution_count": 4,
   "metadata": {},
   "outputs": [
    {
     "data": {
      "text/html": [
       "<div>\n",
       "<style scoped>\n",
       "    .dataframe tbody tr th:only-of-type {\n",
       "        vertical-align: middle;\n",
       "    }\n",
       "\n",
       "    .dataframe tbody tr th {\n",
       "        vertical-align: top;\n",
       "    }\n",
       "\n",
       "    .dataframe thead th {\n",
       "        text-align: right;\n",
       "    }\n",
       "</style>\n",
       "<table border=\"1\" class=\"dataframe\">\n",
       "  <thead>\n",
       "    <tr style=\"text-align: right;\">\n",
       "      <th></th>\n",
       "      <th>Year</th>\n",
       "      <th>Month</th>\n",
       "      <th>Day</th>\n",
       "      <th>Sea Level</th>\n",
       "    </tr>\n",
       "  </thead>\n",
       "  <tbody>\n",
       "    <tr>\n",
       "      <th>0</th>\n",
       "      <td>1913</td>\n",
       "      <td>1</td>\n",
       "      <td>20</td>\n",
       "      <td>1453</td>\n",
       "    </tr>\n",
       "    <tr>\n",
       "      <th>1</th>\n",
       "      <td>1913</td>\n",
       "      <td>1</td>\n",
       "      <td>21</td>\n",
       "      <td>1439</td>\n",
       "    </tr>\n",
       "    <tr>\n",
       "      <th>2</th>\n",
       "      <td>1913</td>\n",
       "      <td>1</td>\n",
       "      <td>22</td>\n",
       "      <td>1444</td>\n",
       "    </tr>\n",
       "    <tr>\n",
       "      <th>3</th>\n",
       "      <td>1913</td>\n",
       "      <td>1</td>\n",
       "      <td>23</td>\n",
       "      <td>1489</td>\n",
       "    </tr>\n",
       "    <tr>\n",
       "      <th>4</th>\n",
       "      <td>1913</td>\n",
       "      <td>1</td>\n",
       "      <td>24</td>\n",
       "      <td>1474</td>\n",
       "    </tr>\n",
       "    <tr>\n",
       "      <th>5</th>\n",
       "      <td>1913</td>\n",
       "      <td>1</td>\n",
       "      <td>25</td>\n",
       "      <td>1442</td>\n",
       "    </tr>\n",
       "    <tr>\n",
       "      <th>6</th>\n",
       "      <td>1913</td>\n",
       "      <td>1</td>\n",
       "      <td>26</td>\n",
       "      <td>1467</td>\n",
       "    </tr>\n",
       "  </tbody>\n",
       "</table>\n",
       "</div>"
      ],
      "text/plain": [
       "   Year  Month  Day  Sea Level\n",
       "0  1913      1   20       1453\n",
       "1  1913      1   21       1439\n",
       "2  1913      1   22       1444\n",
       "3  1913      1   23       1489\n",
       "4  1913      1   24       1474\n",
       "5  1913      1   25       1442\n",
       "6  1913      1   26       1467"
      ]
     },
     "execution_count": 4,
     "metadata": {},
     "output_type": "execute_result"
    }
   ],
   "source": [
    "dfKW = pd.read_csv('sealevel_keywest.csv', header = None, names = [\"Year\",\"Month\",\"Day\",\"Sea Level\"])\n",
    "dfKW.head(7)\n"
   ]
  },
  {
   "cell_type": "markdown",
   "metadata": {},
   "source": [
    "**Part B:**  Plot the raw time series of sea levels. Be sure to label your axes, including units. For the $x$-axis, place the $x$ tick marks on January 2 of each year that is divisible by 10 (i.e., 1920, 1930, ...), and label with that year. You may need to do additional processing in order to grab these indices. "
   ]
  },
  {
   "cell_type": "code",
   "execution_count": 67,
   "metadata": {},
   "outputs": [
    {
     "data": {
      "image/png": "[encoded data removed]",
      "text/plain": [
       "<Figure size 864x576 with 1 Axes>"
      ]
     },
     "metadata": {
      "needs_background": "light"
     },
     "output_type": "display_data"
    }
   ],
   "source": [
    "dfKWx = dfKW.loc[(dfKW['Year'] % 10 == 0) & (dfKW['Month'] == 1) & (dfKW['Day'] == 2)]\n",
    "\n",
    "fig, ax = plt.subplots(figsize=(12,8))\n",
    "dfKW.plot.line(x =\"Year\", y = \"Sea Level\", ax = ax);\n",
    "\n",
    "ax.set_xticks(dfKWx['Year']);\n",
    "ax.set_title(\"Key West Sea Level\", fontsize = 34);\n",
    "ax.set_xlabel(\"Year\", fontsize = 16);\n",
    "ax.set_ylabel(\"Sea Level in mm\", fontsize = 16);\n"
   ]
  },
  {
   "cell_type": "markdown",
   "metadata": {},
   "source": [
    "**Part C:** Your time series plot from Part B should look pretty funky. Namely, there are a bunch of spikes in it! What do you think these spikes represent?\n",
    "\n",
    "Now, clean your data set by doing the following:\n",
    "* Remove any data points associated with these spikes. You may need to look back to some of the earlier in-class notebooks and Pandas tutorials for how to drop data points from a Pandas DataFrame. \n",
    "* Include only the data point from the second day of each month.\n",
    "* Convert the sea-level data from millimeters to feet.\n",
    "\n",
    "Then, make a similar plot to Part B, but of your cleaned data set. Be sure to label axes (including units) and only label January 2 of each year that is divisible by 10."
   ]
  },
  {
   "cell_type": "markdown",
   "metadata": {},
   "source": [
    "The negative spikes in the data are most likely due to days when data was not recorded for some reason and is thus unavailable. "
   ]
  },
  {
   "cell_type": "code",
   "execution_count": 68,
   "metadata": {},
   "outputs": [
    {
     "data": {
      "image/png": "[encoded data removed]",
      "text/plain": [
       "<Figure size 864x576 with 1 Axes>"
      ]
     },
     "metadata": {
      "needs_background": "light"
     },
     "output_type": "display_data"
    }
   ],
   "source": [
    "dfKWclean = pd.read_csv('sealevel_keywest.csv', header = None, names = [\"Year\",\"Month\",\"Day\",\"Sea Level\"], na_values = -32767)\n",
    "dfKWclean.dropna()\n",
    "dfKWclean = dfKWclean.loc[(dfKWclean['Day'] == 2)]\n",
    "dfconvert = dfKWclean['Sea Level']\n",
    "dfconvert = list(dfconvert)\n",
    "\n",
    "for i in range(len(dfconvert)):\n",
    "    dfconvert[i] = dfconvert[i]/304.8\n",
    "\n",
    "dfKWclean['Sea Level'] = dfconvert\n",
    "\n",
    "fig, ax = plt.subplots(figsize=(12,8))\n",
    "dfKWclean.plot.line(x =\"Year\", y = \"Sea Level\", ax = ax);\n",
    "\n",
    "ax.set_xticks(dfKWx['Year']);\n",
    "ax.set_title(\"Key West Sea Level\", fontsize = 34);\n",
    "ax.set_xlabel(\"Year\", fontsize = 16);\n",
    "ax.set_ylabel(\"Sea Level in Feet\", fontsize = 16);"
   ]
  },
  {
   "cell_type": "markdown",
   "metadata": {},
   "source": [
    "**Part D:** Your mysterious employer owns a lot of beachfront property in Key West and does not want to see people shy away from buying real estate and spending time near the sea. So, they really want to convince others to that the mean sea level in Key West in not increasing. Toward this end, your employer wants to find a decade of data (11 years, including both end points) that has a mean sea level which is not statistically significantly different from the mean sea level in the decade 2000-2010 (including data from both 2000 and 2010). Your employer wants you to use the 99% confidence/1% significance level because it sounds catchy in a press release, and wants the *earliest* decade possible.\n",
    "\n",
    "Use your cleaned monthly data set from Part C to find the earliest decade for which you cannot conclude the mean sea level at Key West was statistically significantly different from the mean sea level in the 2000-2010 decade. You may want to write a helper function to compute the confidence intervals/perform the hypothesis test for you, because there are a LOT of possible 11-year periods to try.\n",
    "\n",
    "You may use either hypothesis tests or confidence intervals, but clearly state which method you will use, your results and show all work that leads to your conclusion. "
   ]
  },
  {
   "cell_type": "code",
   "execution_count": 83,
   "metadata": {},
   "outputs": [
    {
     "name": "stdout",
     "output_type": "stream",
     "text": [
      "Our null hypothesis is that the mean of our test year is equal to the mean of 2000 - 2010. If our p value returned from\n",
      "our function is greater than or equal to .01 we fail to reject the null hypothesis and we have found the starting year\n",
      "of the fisrt decade that meets our employers requirement. This year is 1984\n"
     ]
    }
   ],
   "source": [
    "df2000 = dfKWclean.loc[(dfKW['Year'] >= 2000) & (dfKW['Year'] <= 2010)]\n",
    "df2000 = df2000['Sea Level']\n",
    "\n",
    "mean2000 = float(df2000.mean())\n",
    "std2000 = float(df2000.std())\n",
    "num2000 = len(df2000)\n",
    "\n",
    "def keyP(m2,s2,n2,year):\n",
    "    dftest = dfKWclean.loc[(dfKW['Year'] >= year) & (dfKW['Year'] <= (year+10))]\n",
    "    dftest = dftest['Sea Level']\n",
    "    mt = float(dftest.mean())\n",
    "    st = float(dftest.std())\n",
    "    nt = len(dftest)\n",
    "    z = (m2 - mt) / (math.sqrt((s2**2/n2)+(st**2/nt)))\n",
    "    p = 1-stats.norm.cdf(z)\n",
    "    return p\n",
    "\n",
    "list=[]\n",
    "year = 0\n",
    "for i in range(87):\n",
    "    a = keyP(mean2000,std2000,num2000,1913+i)\n",
    "    if (a >= .01):\n",
    "        year = 1913+i\n",
    "        break;\n",
    "\n",
    "print(\"Our null hypothesis is that the mean of our test year is equal to the mean of 2000 - 2010. If our p value returned from\")\n",
    "print(\"our function is greater than or equal to .01 we fail to reject the null hypothesis and we have found the starting year\")\n",
    "print(\"of the fisrt decade that meets our employers requirement. This year is\", year)\n",
    "        \n",
    "    "
   ]
  },
  {
   "cell_type": "markdown",
   "metadata": {},
   "source": [
    "**ANSWER Part D**\n",
    "\n",
    "For this question I used the p test. All work is in the code above.\n",
    "\n",
    "\n",
    "$H_0: \\bar{x}_1 = \\bar{x}_2$ Null hypothesis: The mean from 2000 - 2010 is not statistically different than the mean from our test decade. \n",
    "\n",
    "$H_0: \\bar{x}_1 != \\bar{x}_2$ Alt hypothesis: The mean from 2000 - 2010 is statistically different then the mean from our sample test decade.\n",
    "\n",
    "Because 1984 - 1994 is the first decade that returned from the function with a p value greater than or equal to .01 we failed to reject the Null hypothesis and concluded that this was the first decade the meets the employer's requirement."
   ]
  },
  {
   "cell_type": "code",
   "execution_count": null,
   "metadata": {},
   "outputs": [],
   "source": []
  }
 ],
 "metadata": {
  "kernelspec": {
   "display_name": "Python 3",
   "language": "python",
   "name": "python3"
  },
  "language_info": {
   "codemirror_mode": {
    "name": "ipython",
    "version": 3
   },
   "file_extension": ".py",
   "mimetype": "text/x-python",
   "name": "python",
   "nbconvert_exporter": "python",
   "pygments_lexer": "ipython3",
   "version": "3.7.1"
  }
 },
 "nbformat": 4,
 "nbformat_minor": 2
}
