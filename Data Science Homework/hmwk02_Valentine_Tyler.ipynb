{
 "cells": [
  {
   "cell_type": "markdown",
   "metadata": {},
   "source": [
    "<a id='top'></a>\n",
    "\n",
    "# Homework 2: Introduction to Probability and Simulation \n",
    "***\n",
    "\n",
    "**Name**: \n",
    "\n",
    "***\n",
    "\n",
    "This assignment is due on Canvas by **5 PM on Friday February 15**. Your solutions to theoretical questions should be done in Markdown directly below the associated question.  Your solutions to computational questions should include any specified Python code and results as well as written commentary on your conclusions.  Remember that you are encouraged to discuss the problems with your classmates, but **you must write all code and solutions on your own**.\n",
    "\n",
    "**NOTES**: \n",
    "\n",
    "- Any relevant data sets should be available under the **Data** module on Canvas, as well as in the zipped folder in which you obtained this assignment. To make life easier on the graders if they need to run your code, do not change the relative path names here. Instead, move the files around on your computer.\n",
    "- If you're not familiar with typesetting math directly into Markdown then by all means, do your work on paper first and then typeset it later.  Remember that there is a [reference guide](https://math.meta.stackexchange.com/questions/5020/mathjax-basic-tutorial-and-quick-reference) linked on Canvas on writing math in Markdown. **All** of your written commentary, justifications and mathematical work should be in Markdown.\n",
    "- Because you can technically evaluate notebook cells in a non-linear order, it's a good idea to do Kernel $\\rightarrow$ Restart & Run All as a check before submitting your solutions.  That way if we need to run your code you will know that it will work as expected. \n",
    "- It is **bad form** to make your reader interpret numerical output from your code.  If a question asks you to compute some value from the data you should show your code output **AND** write a summary of the results in Markdown directly below your code. \n",
    "- This probably goes without saying, but... For any question that asks you to calculate something, you **must show all work and justify your answers to receive credit**. Sparse or nonexistent work will receive sparse or nonexistent credit. \n",
    "\n",
    "---\n",
    "**Shortcuts:**  [Problem 1](#p1) | [Problem 2](#p2) | [Problem 3](#p3) | [Problem 4](#p4)\n",
    "\n",
    "---"
   ]
  },
  {
   "cell_type": "code",
   "execution_count": 1,
   "metadata": {
    "scrolled": true
   },
   "outputs": [],
   "source": [
    "import pandas as pd\n",
    "import numpy as np\n",
    "import matplotlib.pylab as plt\n",
    "%matplotlib inline"
   ]
  },
  {
   "cell_type": "markdown",
   "metadata": {},
   "source": [
    "***\n",
    "<a/ id='p1'></a>\n",
    "[Back to top](#top)\n",
    "\n",
    "### [30 points] Problem 1\n",
    "\n",
    "Courtney, Nick and Jarrod are playing special version of <a href=\"https://en.wikipedia.org/wiki/Monopoly_(game)\">Monopoly</a>. Because the three of them are all scoundrels, they are all currently in Jail. In Monopoly, players roll two 6-sided dice on their turn. In their version of Monopoly, however, to get out of Jail, a player must roll *doubles* (the two dice have the same outcome) and must keep re-rolling the dice until they get doubles during their first turn in Jail. As soon as a player rolls doubles, they are let out of Jail and their turn ends. Let $D$ represent the event that a player rolls doubles.\n",
    "\n",
    "Work the following problems by hand unless otherwise stated (but don't be afraid to simulate to check your result!). It is okay to use Python as a calculator, of course."
   ]
  },
  {
   "cell_type": "markdown",
   "metadata": {},
   "source": [
    "**Part A**: What is the probability that a player will roll doubles on their first, second, or third roll while in jail? Note that if a player rolls doubles on their third roll, for example, then they must *not* have rolled doubles on either of the first two rolls. Keep 4 decimal places in your answer."
   ]
  },
  {
   "cell_type": "markdown",
   "metadata": {},
   "source": [
    "There are 36 possible ways to roll 2 dice and 6 ways that someone can roll doubles, thus there is a 1 in 6 chance of rolling doubles (.166667)\n",
    "\n",
    "The probability of doubles on the first roll is 1:6 or $.166667$\n",
    "\n",
    "The probability of doubles on the second roll is $P_x(k) = (1-.166667)*.166667 = .138889$\n",
    "\n",
    "The probability of doubles on the third roll is $P_x(k) = (1-.166667)^2 * .166667 = .115742$\n",
    "\n",
    "The total probability of rolling doubles is $.421298$"
   ]
  },
  {
   "cell_type": "markdown",
   "metadata": {},
   "source": [
    "**Part B:** *The plot thickens!* Darth Ketelsen is well-known to meddle in Jedi affairs. Did I mention that Courtney, Nick and Jarrod are all in Computer Science Jedi training? That's not important for this problem, but it is interesting. \n",
    "\n",
    "Turns out, Darth Ketelsen will occasionally secretly swap out the dice in the Jedi's Monopoly game for a pair of dice that have been weighted. Each of Darth Ketelsen's two dice is weighted such that a 6 is rolled with probability $1/2$, and all the other numbers are equally likely to be rolled. If Darth Ketelsen switches the dice for her weighted ones, she does so before the game begins, and the entire game of Monopoly is played with the same pair of dice, whether they are fair or weighted.\n",
    "\n",
    "What is the probability of rolling doubles on the first, second or third roll while in jail, using Darth Ketelsen's weighted dice? Again, keep 4 decimal places in your answer."
   ]
  },
  {
   "cell_type": "markdown",
   "metadata": {},
   "source": [
    "So we can say that there is a $\\frac{5}{10}$ chance of rolling a 6 and a $\\frac{1}{10}$ chance each of rolling a 1 2 3 4 or 5. Thus there is a $.25$ chance of rolling double sixes and a $.01$ chance of rolling any other type of double giving us a total double probability of $.30$\n",
    "\n",
    "The probability of doubles on the first roll is $.3000$\n",
    "\n",
    "The probability of doubles on the second roll is $P_x(k) = (1-.30) * .30 = .2100$\n",
    "\n",
    "The probability of doubles on the third roll is $P_x(k) = (1-.30)^2 * .30 = .1470$\n",
    "\n",
    "The total probability of rolling doubles is $.6570$\n",
    "\n"
   ]
  },
  {
   "cell_type": "markdown",
   "metadata": {},
   "source": [
    "**Part C:** Suppose that before any given game of Monopoly, Darth Ketelsen replaces the normal six-sided dice with her loaded dice with probability $0.25$. Then the players proceed to play their entire game using either the loaded dice, or the fair dice.  It is unknown to the player who is rolling, however, whether they are using the unfair or fair dice. What is the probability that a player gets doubles within three rolls? Keep 4 decimal places in your answer."
   ]
  },
  {
   "cell_type": "markdown",
   "metadata": {},
   "source": [
    "Since Ketelsen only swaps out the dice at the beginning of the game, we only need to worry about the probability that we are dealing with fair or loaded dice. Thus we can multiply our answers from parts A and B by their given probabilities of occuring and add the two values:\n",
    "\n",
    "The probability of rolling doubles on the first roll is $(.75 * .166667) + (.25 * .3) = .2000$\n",
    "\n",
    "The probability of rolling doubles on the second roll is $(.75 * .138889) + (.25 * .21) = .1567$\n",
    "\n",
    "The probability of rolling doubles on the third roll is $(.75 * .115742) + (.25 * .147) = .1236$\n",
    "\n",
    "The total probability of rolling doubles is $.4803$"
   ]
  },
  {
   "cell_type": "markdown",
   "metadata": {},
   "source": [
    "**Part D:** While it is unknown whether they are playing with Darth Ketelsen's unfair dice, or with fair dice, Courtney, Jarrod and Nick are armed and dangerous... with *probability theory*, that is! Well, probability theory and lightsabers.\n",
    "\n",
    "Suppose that starting from jail, all three of Courtney, Jarrod and Nick have taken one turn, and all three of them have managed to roll doubles within 3 rolls. If you were not given this information, you would assume that there is a probability of $0.25$ that they are playing with Darth Ketelsen's unfair dice. But now, given this information, what is the probability that they are playing with the unfair dice?"
   ]
  },
  {
   "cell_type": "markdown",
   "metadata": {},
   "source": [
    "For this we will use Bayes Theorm with k = Ketelsens Dice d = Doubles and f = Fair Dice. We have to take into account that three people all rolled doubles so we will cube our values for P(d|k) and P(d|f). Thus we have:\n",
    "\n",
    "$P(k|d) = \\frac{P(d|k)^3*P(k)}{(P(d|k)^3*P(k)) + (P(d|f)^3*P(f))}$\n",
    "\n",
    "$P(k|d) = \\frac{.2836*.25}{(.2836*.25)+(.07477*.75)} = .5583$"
   ]
  },
  {
   "cell_type": "markdown",
   "metadata": {},
   "source": [
    "**Part E**:  First, work out **by hand** a formula for the probability in general that Courtney, Jarrod and Nick are playing with Darth Ketelsen's unfair dice, given that $n$ players in a row have gotten out of jail by rolling doubles within 3 rounds. That is, you want to find a formula for $P(U \\mid D_n)$ in terms of $n$.\n",
    "\n",
    "Then, define a function `prob_unfair` to calculate $P(U \\mid D_n)$.  This function should only take one positive integer argument, $n$.\n",
    "\n",
    "Verify that your function is performing as expected by checking your answer to **Part D** by plugging in $n=3$."
   ]
  },
  {
   "cell_type": "markdown",
   "metadata": {},
   "source": [
    "Continuing to use my naming conventions from above...\n",
    "\n",
    "$P(k|d_n) = \\frac{P(d|k)^n*P(k)}{(P(d|k)^n*P(k)) + (P(d|f)^n*P(f))}$"
   ]
  },
  {
   "cell_type": "code",
   "execution_count": 24,
   "metadata": {},
   "outputs": [],
   "source": [
    "def unfairProb(n):\n",
    "    k = .25\n",
    "    f = .75\n",
    "    dk = .6570**n\n",
    "    df = .4213**n\n",
    "    kd = (dk*k)/((dk*k)+(df*f))\n",
    "    return kd"
   ]
  },
  {
   "cell_type": "markdown",
   "metadata": {},
   "source": [
    "**Part F:**  What is the smallest value of $n$ players in a row rolling doubles within 3 rounds that would lead to a higher-than-90% probability that the dice are unfair?  Plugging larger and larger values for $n$ into your `prob_unfair` function is a very reasonable way to check this."
   ]
  },
  {
   "cell_type": "markdown",
   "metadata": {},
   "source": [
    "It would take 8 players to get a higher than 90% chance that we were dealing with Ketelsen's dice"
   ]
  },
  {
   "cell_type": "code",
   "execution_count": 8,
   "metadata": {},
   "outputs": [
    {
     "name": "stdout",
     "output_type": "stream",
     "text": [
      "0.9210062805862451\n"
     ]
    }
   ],
   "source": [
    "n = 8\n",
    "def unfairProb(n):\n",
    "    k = .25\n",
    "    f = .75\n",
    "    dk = .6570**n\n",
    "    df = .4213**n\n",
    "    kd = (dk*k)/((dk*k)+(df*f))\n",
    "    return kd\n",
    "print(unfairProb(n))"
   ]
  },
  {
   "cell_type": "markdown",
   "metadata": {},
   "source": [
    "**Part G:** Jarrod, Courtney and Nick are becoming suspicious that the dice they are playing with are unfair. They decide to keep track of how frequently each player rolls doubles. They will roll the dice `n_trials` number of times, and make a plot of their running estimate of the probability of rolling doubles, from the moment they start rolling until they finally finish all `n_trials` rolls. So, the x-axis of their plot will be the number of rolls, and the y-axis will be the running estimate of the probability of rolling doubles with the given dice, with the number of trials given by the x-axis.\n",
    "\n",
    "Write code to run 4 independent simulations of 1,000 trials each to estimate the probability of rolling doubles using the fair dice, and another 4 independent simulations to estimate the probability of rolling doubles using Darth Ketelsen's loaded dice, and plot their running estimate curves on the same set of axes. \n",
    "\n",
    "In order to more easily distinguish between the loaded dice estimates and the fair dice estimates, plot the loaded dice estimates as lines using the color `tomato` and plot the fair dice estimates using the color `seagreen`. Be sure to label your axes and include a legend.\n",
    "\n",
    "Finally, comment on how many flips appear to be necessary before Jarrod, Courtney and Nick might become convinced of what type of dice they are playing with (fair or unfair). Justify your answer fully using your figure."
   ]
  },
  {
   "cell_type": "code",
   "execution_count": 2,
   "metadata": {},
   "outputs": [],
   "source": [
    "def caramelCorn(n):\n",
    "    x = 0\n",
    "    for i in range (n):\n",
    "        x = x+((1-.3)**(i)*.3)\n",
    "    return x\n",
    "\n",
    "def fairDice(n):\n",
    "    x = 0\n",
    "    for i in range (n):\n",
    "        x = x+((1-(1/6))**(i)*(1/6))\n",
    "    return x    "
   ]
  },
  {
   "cell_type": "code",
   "execution_count": 9,
   "metadata": {},
   "outputs": [
    {
     "data": {
      "image/png": "[encoded data removed]",
      "text/plain": [
       "<Figure size 864x432 with 1 Axes>"
      ]
     },
     "metadata": {
      "needs_background": "light"
     },
     "output_type": "display_data"
    }
   ],
   "source": [
    "n = 1000\n",
    "\n",
    "def fairDie(n):\n",
    "    fairDie = np.array([1,2,3,4,5,6])\n",
    "    r = []\n",
    "    for i in range(n):\n",
    "        a = np.random.choice(fairDie)\n",
    "        b = np.random.choice(fairDie)\n",
    "        if(a == b):\n",
    "            c = \"T\"\n",
    "        else:\n",
    "            c = \"F\"\n",
    "        r.append(c)\n",
    "    return r\n",
    "\n",
    "def loaded(n):\n",
    "    caramelDie = np.array([1,2,3,4,5,6,6,6,6,6])\n",
    "    r = []\n",
    "    for i in range(n):\n",
    "        a = np.random.choice(caramelDie)\n",
    "        b = np.random.choice(caramelDie)\n",
    "        if(a == b):\n",
    "            c = \"T\"\n",
    "        else:\n",
    "            c = \"F\"\n",
    "        r.append(c)\n",
    "    return r\n",
    "\n",
    "fig, ax = plt.subplots(figsize=(12,6))\n",
    "ax.set_title(\"Running Estimate of Probability of Doubles\", fontsize=20)\n",
    "ax.set_xlabel(\"Number of Dice Rolls\", fontsize=16)\n",
    "ax.set_ylabel(\"Estimate of Probability\", fontsize=16)\n",
    "ax.grid(True, alpha=0.25)\n",
    "loadedResults = np.array([])\n",
    "\n",
    "for t in range (4):\n",
    "    results = np.array(fairDie(n))\n",
    "    p = np.zeros(len(results))\n",
    "    for i in range (len(p)):\n",
    "        p[i] = np.sum(results[:i+1]=='T')/len(results[:i+1])\n",
    "    fair, = ax.plot(p, color=\"tomato\")\n",
    "\n",
    "for t in range (4):\n",
    "    results2 = np.array(loaded(n))\n",
    "    p1 = np.zeros(len(results2))\n",
    "    for i in range (len(p1)):\n",
    "        p1[i] = np.sum(results2[:i+1]=='T')/len(results2[:i+1])\n",
    "    loaded2, = ax.plot(p1, color=\"seagreen\")\n",
    "legend = ax.legend([fair,loaded2],[\"Fair\",\"Loaded\"])\n",
    "    \n",
    "    \n"
   ]
  },
  {
   "cell_type": "markdown",
   "metadata": {},
   "source": [
    "Judging from the histogram above, after about 150 dice rolls Courtny, Jarrod and Nick could be relatively sure whether they were playing with fair or loaded dice. After 250 dice rolls they could be almost certain."
   ]
  },
  {
   "cell_type": "markdown",
   "metadata": {},
   "source": [
    "***\n",
    "<a/ id='p2'></a>\n",
    "[Back to top](#top)\n",
    "\n",
    "### [25 points] Problem 2\n",
    "\n",
    "Sonic and Amy are two average hedgehogs who have to run around campus every day for classes and hobbies. When they leave the Engineering Center (E) from their Data Science class, they like to go to 5 other places on campus: the Gym ($G~$) to exercise, the Library ($L~$) to learn, the Hill ($H~$) to grab a sandwich, Weathertech Cafe ($W~$) for a pizza, and the mountains ($M~$) to frolic with their marmot friends.\n",
    "\n",
    "Here are some rules governing their movements throughout the fair city of Boulder:\n",
    "* When Sonic and/or Amy is leaving one location, they randomly select one of the available adjacent locations, with equal probability.\n",
    "* This includes back-tracking, but note that to return to their original location would require 2 moves.\n",
    "* Assume that all moves require the same amount of time.\n",
    "* They are also not allowed to stay put; they always must move to some *other* adjacent location.\n",
    "* Sonic and Amy also act **independently** of one another. That is, the probability that Sonic goes from one place to another is independent of Amy's movements.\n",
    "\n",
    "<img src=\"http://www.cs.colorado.edu/~tonyewong/home/resources/sonic_and_amy_statespace.png\" style=\"width: 300px;\"/>"
   ]
  },
  {
   "cell_type": "markdown",
   "metadata": {},
   "source": [
    "**Part A**: Amy is currently at the Gym and she has worked up quite an appetite! She wants to go to either the Hill or the Weathertech Cafe, and is soooooooo hungry that she must land on exactly the $H$ or $W$ node in exactly one or two moves. Compute (by hand) the probability that Amy ends up at the the Hill ($H$) or the Weathertech Cafe ($W$) in exactly one or two moves, given that she is starting from the Gym ($G$). "
   ]
  },
  {
   "cell_type": "markdown",
   "metadata": {},
   "source": [
    "There is a $\\tfrac{1}{3}$ chance that Amy lands on the hill after one move and a $\\tfrac{1}{12}$ chance that she lands at the hill after two moves. Thus there is a $\\tfrac{1}{3} + \\tfrac{1}{12} = \\tfrac{5}{12}$ chance that she ends up on the hill after one or two moves.\n",
    "\n",
    "Amy can not end up at the Weathertech after one move but there are two ways she could end up there after two moves G->L->W which has a $\\tfrac{1}{12}$ chance or G->E->W which has a $\\tfrac{1}{9}$. thus there is a $\\tfrac{5}{12}+\\tfrac{7}{36}=\\tfrac{22}{36}$ chance or a 61.1% chance."
   ]
  },
  {
   "cell_type": "markdown",
   "metadata": {},
   "source": [
    "There is a $\\tfrac{1}{3}$ chance that Amy will go to the hill on her first move. There is also a $\\tfrac{1}{3}$ chance that she will go to the Library and a $\\tfrac{1}{2}$ chance that she will go to The Hill or the Weathertech Cafe from there. $\\tfrac{1}{3} * \\tfrac{1}{2} = \\tfrac{1}{6}$ Thus there is a $\\tfrac{1}{3} + \\tfrac{1}{6} = \\tfrac{1}{2}$ chance that she will go to The Hill. Similarly, if she ends up at the Engineering Center, a $\\tfrac{1}{3}$ chance, on her first move, there is a 100% chance she will go to the Weathertech. Thus, there is also a $\\tfrac{1}{3} + \\tfrac{1}{6} = \\tfrac{1}{2}$ chance that she will end up and The Weathertech."
   ]
  },
  {
   "cell_type": "markdown",
   "metadata": {},
   "source": [
    "**Part B**: Suppose that Amy is at the Gym and Sonic is working late at the Engineering Center. Later, they both leave and wander around, randomly and independently of one another, as described above.\n",
    "1. What is the probability that they run into each other in the same location on the first location visited?  \n",
    "2. Given their two initial locations, what is the probability that they meet at the Hill after 2 moves?"
   ]
  },
  {
   "cell_type": "markdown",
   "metadata": {},
   "source": [
    "1. The only place that they can meet is the library. There is a $\\tfrac{1}{3}$ chance that either will go to the library and one going to the library is in no way dependent on the other, thus there is a $\\tfrac{1}{9}$ chance they will meet.\n",
    "\n",
    "2. There is only one way that Amy could end up at the hill. She would have to go to the library on her first move with a $\\tfrac{1}{3}$ chance and The Hill on her second move with a $\\tfrac{1}{4}$ chance. Thus there is a $\\tfrac{1}{12}$ chance that she ends up on the hill. Sonic could get to the Hill by first going to the Gym ($\\tfrac{1}{3}$ chance) then to the hill ($\\tfrac{1}{3}$ chance) for a total $\\tfrac{1}{9}$ chance or by going to the library ($\\tfrac{1}{3}$ chance) then to the hill ($\\tfrac{1}{4}$ chance) for a total $\\tfrac{1}{12}$ chance. Thus his total chance of ending up on the hill is $\\tfrac{7}{36}$. Given that Amy has a $\\tfrac{3}{36}$ chance of ending up on the hill, the chance that they both end up on the hill after 2 moves is $\\tfrac{21}{1296}$"
   ]
  },
  {
   "cell_type": "markdown",
   "metadata": {},
   "source": [
    "**Part C**: Write a simulation to confirm that your by-hand calculations in **Parts A** and **B** are correct. Make sure you run your simulations for enough trials that your estimates are reasonably close to your analytic results. In addition to showing your code, you should explain in Markdown (not just in code comments) what your code is doing and why it is a reasonable approximation of the probabilities in **Parts A** and **B**."
   ]
  },
  {
   "cell_type": "markdown",
   "metadata": {},
   "source": [
    "Part A:\n",
    "Amy starts at the gym. and randomly moves to either the hill, the library, or the engineering center. If she ends up on the hill she stays there and we record that result. If she ends up at the library she moves to either the hill or the weathertech and we record that result. If she ends up at the engineering center she moves to the weathertech and we record that result. After 10000 trials we return an array with all of the results and divide the number of 'hills' by 10000 and the number of 'weathertechs' by 10000. These fractions are multiplied by 100 to give us our percentages. This is simulating all of the possible ways Amy could end up at the hill or the weathertech after one or two moves and thus, is a good representation of our math above.\n",
    "\n",
    "Part B:\n",
    "Amy starts at the gym and randomly moves to either the hill, the library, or the engineering center. Sonic starts at the engineering center and randomly moves to either the gym, the library, or the weathertech. If Amy and Sonic both end up at the library, the only place they can meet, we incriment a match counter. After 10000 trials we return the number of matches. This number is divided by 100 to get a percentage and, if our math above is correct, we should see them meet about 11 percent of the time.\n",
    "\n",
    "Part C:\n",
    "Amy starts at the gym and randomly moves twice based on valid moves. Sonic starts at the engineering center and randomly moves twice based on valid moves. After they have both moved twice we check to see if they are both on the hill. If they are a match counter is incremented. After 10000 trials the number of matches is divided by 100 to give a percentage. If the above math is correct we will see a match about 1.6 percent of the time."
   ]
  },
  {
   "cell_type": "code",
   "execution_count": 12,
   "metadata": {},
   "outputs": [
    {
     "name": "stdout",
     "output_type": "stream",
     "text": [
      "Part A: Amy ended up at the Hill or Weathertech with a 0.6157 probability\n",
      "Part A prediction was .6111\n",
      "Part B: After one move Amy and Sonic both ended up at the same place (the library) 11.75 percent of the time.\n",
      "Part B prediction was 11.11%\n",
      "Part C: After two moves Amy and Sonic both ended up on the hill 1.37 percent of the time.\n",
      "Part C prediction was 1.62%\n"
     ]
    }
   ],
   "source": [
    "n = 10000\n",
    "#def Amy(n):\n",
    "    #mConn1 = np.array(['H'])\n",
    "    #hConn1 = np.array(['M','G','L'])\n",
    "    #gConn1 = np.array(['H','L','E'])\n",
    "    #lConn1 = np.array(['H','G','E','W'])\n",
    "    #eConn1 = np.array(['G','L','W'])\n",
    "    #wConn1 = np.array(['L','E'])\n",
    "    #lConn2 = np.array(['H','W'])\n",
    "    #results = []\n",
    "    #for i in range(n):\n",
    "        #Amy = np.random.choice(gConn1)\n",
    "        #if (Amy == 'H'):\n",
    "            #results.append('H')\n",
    "        #elif (Amy == 'L'):\n",
    "            #Amy = np.random.choice(lConn2)\n",
    "            #results.append(Amy)\n",
    "        #else:\n",
    "            #results.append('W')\n",
    "    #return results\n",
    "\n",
    "def AmyAlt(n):\n",
    "    mConn1 = np.array(['H'])\n",
    "    hConn1 = np.array(['M','G','L'])\n",
    "    gConn1 = np.array(['H','L','E'])\n",
    "    lConn1 = np.array(['H','G','E','W'])\n",
    "    eConn1 = np.array(['G','L','W'])\n",
    "    wConn1 = np.array(['L','E'])\n",
    "    results = 0\n",
    "    for i in range(n):\n",
    "        Amy = np.random.choice(gConn1)\n",
    "        if (Amy == 'H'):\n",
    "            results += 1\n",
    "        elif (Amy == 'L'):\n",
    "            Amy = np.random.choice(lConn1)\n",
    "            if (Amy == 'H'):\n",
    "                results += 1\n",
    "            elif (Amy == 'W'):\n",
    "                results += 1\n",
    "        else:\n",
    "            Amy = np.random.choice(eConn1)\n",
    "            if (Amy == 'W'):\n",
    "                results += 1\n",
    "    return results\n",
    "\n",
    "def Amy_and_Sonic(n):\n",
    "    gConn = np.array(['H','L','E'])\n",
    "    eConn = np.array(['G','L','W'])\n",
    "    match = 0\n",
    "    for i in range(n):\n",
    "        Amy = np.random.choice(gConn)\n",
    "        Sonic = np.random.choice(eConn)\n",
    "        if (Amy == 'L' and Sonic == 'L'):\n",
    "            match += 1\n",
    "    return match\n",
    "\n",
    "def Amy_and_Sonic_2moves(n):\n",
    "    mConn = np.array(['H'])\n",
    "    hConn = np.array(['M','G','L'])\n",
    "    gConn = np.array(['H','L','E'])\n",
    "    lConn = np.array(['H','G','E','W'])\n",
    "    eConn = np.array(['G','L','W'])\n",
    "    wConn = np.array(['L','E'])\n",
    "    match = 0\n",
    "    \n",
    "    for i in range(n):\n",
    "        Amy = np.random.choice(gConn)\n",
    "        Sonic = np.random.choice(eConn)\n",
    "        if (Amy == 'H'):\n",
    "            Amy = np.random.choice(hConn)\n",
    "        elif (Amy == 'L'):\n",
    "            Amy = np.random.choice(lConn)\n",
    "        else:\n",
    "            Amy = np.random.choice(eConn)\n",
    "        if (Sonic == 'G'):\n",
    "            Sonic = np.random.choice(gConn)\n",
    "        elif (Sonic == 'L'):\n",
    "            Sonic = np.random.choice(lConn)\n",
    "        else:\n",
    "            Sonic = np.random.choice(wConn)    \n",
    "        if (Amy == 'H' and Sonic == 'H'):\n",
    "            match += 1\n",
    "    return match\n",
    "\n",
    "#results = np.array(Amy(n))\n",
    "#Weathertech = sum(results=='W')/n\n",
    "#Hill = sum(results=='H')/n\n",
    "A = AmyAlt(n)\n",
    "B = Amy_and_Sonic(n)\n",
    "C = Amy_and_Sonic_2moves(n)\n",
    "\n",
    "#print(\"Part A: Amy ended up at the Hill\", round((Hill*100),2), \"percent of the time and the Weathertech Cafe\", round((Weathertech*100),2), \"percent of the time.\")\n",
    "#print(\"Part A prediction was 50%/50%\")\n",
    "print(\"Part A: Amy ended up at the Hill or Weathertech with a\", A/n, \"probability\")\n",
    "print(\"Part A prediction was .6111\")\n",
    "print(\"Part B: After one move Amy and Sonic both ended up at the same place (the library)\", round((B/100),2), \"percent of the time.\")\n",
    "print(\"Part B prediction was 11.11%\")\n",
    "print(\"Part C: After two moves Amy and Sonic both ended up on the hill\", round((C/100),2), \"percent of the time.\")\n",
    "print(\"Part C prediction was 1.62%\")\n",
    "\n"
   ]
  },
  {
   "cell_type": "markdown",
   "metadata": {},
   "source": [
    "**Part D:** Use your simulation from Part C, possibly with some modification, to estimate the **long-run proportion of time that the hedgehogs spend in the mountains**. You can estimate this using the following technique:\n",
    "* walk a hedgehog around the graph for a very large number of steps (at least 100,000 steps), \n",
    "* keep track of which location the hedgehog is at, at each step, then\n",
    "* the proportion of their time spent at any given location may be estimated as the number of times they are at the Mountains node ($M$), divided by the total number of steps.\n",
    "\n",
    "You may be left wondering: Where should I start my hedgehog? That is very weird question, but totally valid here! It turns out that **it should not matter** where you start the hedgehog. Verify this by making your estimate from three different starting locations. Be sure to include some commentary in Markdown to state your answer for the long-run proportion of time that the hedgehogs spend in the mountains, and comment on whether it appears to depend on the initial location."
   ]
  },
  {
   "cell_type": "code",
   "execution_count": 139,
   "metadata": {},
   "outputs": [
    {
     "name": "stdout",
     "output_type": "stream",
     "text": [
      "Sonic spends 6.21 percent of his time in the mountains when he starts in the mountains\n",
      "Sonic spends 6.2 percent of his time in the mountains when he starts on the hill\n",
      "Sonic spends 6.29 percent of his time in the mountains when he starts at the library\n"
     ]
    }
   ],
   "source": [
    "def Hedgehog_Mountains(n,start):\n",
    "    mConn = np.array(['H'])\n",
    "    hConn = np.array(['M','G','L'])\n",
    "    gConn = np.array(['H','L','E'])\n",
    "    lConn = np.array(['H','G','E','W'])\n",
    "    eConn = np.array(['G','L','W'])\n",
    "    wConn = np.array(['L','E'])\n",
    "    M = 0\n",
    "    \n",
    "    Sonic = start\n",
    "    for i in range(n):\n",
    "        if (Sonic == 'M'):\n",
    "            M += 1\n",
    "            Sonic = np.random.choice(mConn)\n",
    "        elif (Sonic == 'H'):\n",
    "            Sonic = np.random.choice(hConn)\n",
    "        elif (Sonic == 'G'):\n",
    "            Sonic = np.random.choice(gConn)\n",
    "        elif (Sonic == 'L'):\n",
    "            Sonic = np.random.choice(lConn)\n",
    "        elif (Sonic == 'E'):\n",
    "            Sonic = np.random.choice(eConn)\n",
    "        else:\n",
    "            Sonic = np.random.choice(wConn)\n",
    "    M = (round((M/n),4))*100\n",
    "    return M\n",
    "print(\"Sonic spends\", Hedgehog_Mountains(100000,'M'), \"percent of his time in the mountains when he starts in the mountains\")\n",
    "print(\"Sonic spends\", Hedgehog_Mountains(100000,'H'), \"percent of his time in the mountains when he starts on the hill\")\n",
    "print(\"Sonic spends\", Hedgehog_Mountains(100000,'L'), \"percent of his time in the mountains when he starts at the library\")\n",
    "            "
   ]
  },
  {
   "cell_type": "markdown",
   "metadata": {},
   "source": [
    "As we can see from our code above, over the course of 100,000 trials the amount of time that Sonic spends in the mountains is not dependent on his starting location. He always ends up spending around 6.2 percent of his time up there."
   ]
  },
  {
   "cell_type": "markdown",
   "metadata": {},
   "source": [
    "***\n",
    "<a/ id='p3'></a>\n",
    "[Back to top](#top)\n",
    "\n",
    "### [20 points] Problem 3  \n",
    "\n",
    "After years of Computer Science Jedi training, Tony has attained the rank of Master is training two aspiring young apprentices: Nick and Courtney. For their training and Tony’s amusement, Nick and Courtney are having a lightsaber duel with the following rules:\n",
    "* The duel is composed of a number of rounds.\n",
    "* Each round consists of Nick trying to strike Courtney with his lightsaber, then Courtney trying to strike Nick with her lightsaber.\n",
    "* If Nick strikes Courtney, then he is awarded a point. Similarly, if Courtney strikes Nick, then she is also awarded a point.\n",
    "* If a round ends in a tie (i.e., either both strike each other or both miss), then Nick and Courtney proceed to another round. If a round ends with one apprentice scoring a point but the other does not, then the apprentice who scored a point wins the duel.\n",
    "\n",
    "Let $C$ be the event that \"Courtney wins the duel\", $E$ be the event that \"the duel ends after the first round of lightsaber strikes\", and $R$ be the event that \"the duel continues after the first round of lightsaber strikes\".  Suppose that the result of any given lightsaber strike is independent of the other strikes, Courtney successfully lands her lightsaber strikes with probability $p$, and Nick lands his strikes with probability $q$.\n",
    "\n",
    "**Part A**: The duel will continue until Courtney or Nick wins.  What is the sample space $\\Omega$ for this \"experiment\"?  Represent the outcomes of individual lightsaber strikes by $H$ for a hit and $M$ for a miss, and assume that Courtney has the first strike in each round. At the very least, your answer should include all of the events in $\\Omega$ that include one or two rounds, followed by \"...\" to show that you have established a pattern."
   ]
  },
  {
   "cell_type": "markdown",
   "metadata": {},
   "source": [
    "$\\Omega_1[(R \\mid (H,H)), (R \\mid (M,M)), (E \\mid (H,M)), (E \\mid (M,H))]$\n",
    "\n",
    "$\\Omega_2[(R \\mid (H,H)), (R \\mid (M,M)), (E \\mid (H,M)), (E \\mid (M,H))]$\n",
    "\n",
    "$\\Omega_3 ...$"
   ]
  },
  {
   "cell_type": "markdown",
   "metadata": {},
   "source": [
    "**Part B**: Determine $P(C \\mid E)$ in terms of $p$ and $q$."
   ]
  },
  {
   "cell_type": "markdown",
   "metadata": {},
   "source": [
    "$p = \\tfrac{1}{2}$\n",
    "\n",
    "$\\neg{q} = \\tfrac{1}{2}$\n",
    "\n",
    "$P(C \\mid E) = p$ and $\\neg{q} = \\tfrac{1}{4}$"
   ]
  },
  {
   "cell_type": "markdown",
   "metadata": {},
   "source": [
    "**Part C**: Explain in words why events $C$ and $R$ should be independent. "
   ]
  },
  {
   "cell_type": "markdown",
   "metadata": {},
   "source": [
    "Events C and R are mutually exclusive. There is no situation where both C and R can happen or influence each other. If R happens the duel starts over with the exact same probabilities of outcomes and obviously if C happens then the duel ends. Thus C and R are independent."
   ]
  },
  {
   "cell_type": "markdown",
   "metadata": {},
   "source": [
    "**Part D**: Use the Law of Total Probability to show that $P(C) = p(1-q) + (2pq - p - q +1) P(C \\mid R)$. "
   ]
  },
  {
   "cell_type": "markdown",
   "metadata": {},
   "source": [
    "$P(C) = P(C \\mid p)*P(p) + P(C \\mid \\neg{p})*P(\\neg{p})$\n",
    "\n",
    "$= (\\tfrac{1}{2} * \\tfrac{1}{2}) + (0*\\tfrac{1}{2})$\n",
    "\n",
    "$= \\tfrac{1}{4} + 0 = \\tfrac{1}{4}$\n",
    "\n",
    "$P(C) = p(1-q)+(2pq-p-q+1)*P(C \\mid R)$\n",
    "\n",
    "$= \\tfrac{1}{2}(1-\\tfrac{1}{2})+(2(\\tfrac{1}{2})(\\tfrac{1}{2})-\\tfrac{1}{2}-\\tfrac{1}{2}+1)*0$\n",
    "\n",
    "$= \\tfrac{1}{4}$"
   ]
  },
  {
   "cell_type": "markdown",
   "metadata": {},
   "source": [
    "**Part E**: Use **Part D** and the fact from **Part C** that events $C$ and $R$ are independent to determine $P(C)$ in terms of $p$ and $q$. "
   ]
  },
  {
   "cell_type": "markdown",
   "metadata": {},
   "source": [
    "$P(C \\mid p) = \\tfrac{1}{2}$\n",
    "\n",
    "$P(C \\mid \\neg{q}) = \\tfrac{1}{2}$\n",
    "\n",
    "$P(C \\mid p$ and $\\neg{q}) = \\tfrac{1}{4}$"
   ]
  },
  {
   "cell_type": "markdown",
   "metadata": {},
   "source": [
    "**Part F**: Explain why the answers to **Part B** and **Part E** are the same. "
   ]
  },
  {
   "cell_type": "markdown",
   "metadata": {},
   "source": [
    "the probability of Courtney winning is the same regardless of if it is the first round or any subsequent round."
   ]
  },
  {
   "cell_type": "markdown",
   "metadata": {},
   "source": [
    "**Part G**: Explain the significance of the solution technique for $P(C)$ outlined in **Part D** and **Part E**.  Why did we go this route instead of computing $P(C)$ directly?  Can we always use such techniques?  What assumption did we need to make in order to use this solution approach?"
   ]
  },
  {
   "cell_type": "markdown",
   "metadata": {},
   "source": [
    "Each person has a 50% chance of hitting and a 50% chance of winning given that they hit. This is significant because if there were many more people involved in the tournament then we could calculate the probability that a given person would win much faster than using the law of total probability. We needed to assume that both jedi had a 50% chance of hitting with their lightsaber."
   ]
  },
  {
   "cell_type": "markdown",
   "metadata": {},
   "source": [
    "***\n",
    "<a/ id='p4'></a>\n",
    "[Back to top](#top)\n",
    "\n",
    "### [25 points] Problem 4\n",
    "\n",
    "In this problem you will write some code to simulate the game of **Miniopoly** (a very rough approximation of <a href=\"https://en.wikipedia.org/wiki/Monopoly_(game)\">Monopoly</a>).  The game consists of a round board with 40 \"squares\" numbered from $0$ to $39$, where squares $0$ and would-be $40$ are [coincident](https://en.wikipedia.org/wiki/Coincident) and called **GO**.  A player starts on **GO** with \\$200 in their pocket.  On each turn the player rolls a pair of dice and then moves a number of spaces equal to the sum of the dice.  Landing on different squares have different results: \n",
    "\n",
    "- Squares 2, 7, 17, 22, 33, and 36 cause you to draw a card.  The cards tell you to collect \\$50 or \\$100, or pay the bank \\$25 or \\$100.  There is always an equal probability associated with each of these possible cards.\n",
    "\n",
    "<p> </p>\n",
    "\n",
    "- Square 20 is **Free Parking**. If a player lands on Square 20, then they are awarded a Free Parking Bonus of \\$500. This should be a generic input variable to your `miniopoly_turn` function called `bonus`, so you can modify it later. But, the default value for `bonus` should be \\$500.\n",
    "\n",
    "<p> </p>\n",
    "\n",
    "- Square 30 is **Go To Jail**. (So if a player has landed on Square 30, then you know they have been to jail.)\n",
    "\n",
    "<p> </p>\n",
    "\n",
    "- If a player starts a turn from **Jail** she rolls two dice: \n",
    "\n",
    "    - If the player rolls doubles (i.e. the dice have equal values), then the player moves from Square 10 a number of squares equal to the sum of the dice\n",
    "    \n",
    "    - If the player rolls anything other than doubles, then she pays the bank \\$20 and remains in **Jail** \n",
    "    \n",
    "<p> </p>\n",
    "\n",
    "- If the player passes or lands on **GO** (square 0) she collects \\$200. \n",
    "\n",
    "<p> </p>\n",
    "\n",
    "- If the player lands on any other square not mentioned above, she pays the bank an amount equal to the square's number (e.g. if she lands on Square 29 she pays the bank \\$29). \n",
    "\n",
    "<p> </p>\n",
    "\n",
    "If at any point the player has \\$0 or less they go bankrupt and the game ends.\n",
    "\n",
    "See [here](http://www.cs.colorado.edu/~tonyewong/home/resources/miniopoly_example.png) for an example of the Miniopoly board layout.\n",
    "\n",
    "<br>\n",
    "\n",
    "**Part A**: Complete the function `miniopoly_turn` below. The function should simulate one turn of Miniopoly.  It should take as arguments the player's current location on the board as well as the player's current cash reserves and the amount of the Free Parking (Square 20) bonus, and return the player's new location and cash reserves after the turn has completed. Note that if a player goes bankrupt during the game you should return their cash as 0 instead of a negative value.\n",
    "\n",
    "**Warning:** This function will be auto-graded, so do **not** change the form of the function inputs/outputs (API)."
   ]
  },
  {
   "cell_type": "code",
   "execution_count": 3,
   "metadata": {},
   "outputs": [
    {
     "name": "stdout",
     "output_type": "stream",
     "text": [
      "(6, 94)\n"
     ]
    }
   ],
   "source": [
    "# GIVEN code - do not change the inputs/outputs!\n",
    "def miniopoly_turn(state, cash, bonus=500):\n",
    "    die = np.array([1,2,3,4,5,6])\n",
    "    card = np.array([-100,-25,50,100])\n",
    "    roll1 = np.random.choice(die)\n",
    "    roll2 = np.random.choice(die)\n",
    "    move = roll1+roll2\n",
    "    state = state+move\n",
    "    if (state == 2 or state == 7 or state == 17 or state == 22 or state == 33 or state == 36):\n",
    "        cash = cash + np.random.choice(card)\n",
    "        if (cash <= 0):\n",
    "            return state, cash\n",
    "    elif (state == 20):\n",
    "        cash = cash+bonus\n",
    "    elif (state == -1):\n",
    "        rollj1 = np.random.choice(die)\n",
    "        rollj2 = np.random.choice(die)\n",
    "        if(rollj1 == rollj2):\n",
    "            state = 10+(rollj1*2)\n",
    "        else:\n",
    "            cash = cash - 20\n",
    "            if (cash <= 0):\n",
    "                return state, cash\n",
    "    elif (state == 30):\n",
    "        state = -1\n",
    "    elif (state == 0):\n",
    "        cash = cash + 200\n",
    "    else:\n",
    "        cash = cash - state\n",
    "    return state, cash\n",
    "print(miniopoly_turn(0,100))"
   ]
  },
  {
   "cell_type": "markdown",
   "metadata": {},
   "source": [
    "**Part B**: Use your function from **Part A** to simulate at least 5000 games of Miniopoly for 20 turns, 40 turns and 60 turns, and make a **density** histogram of the player's cash at the end of the game under all 3 scenarios for number of turns. The histogram box faces should be slightly transparent, so as to be able to tell the 3 game-length scenarios apart. For all three histograms, use bins of width \\$250, starting at 0 on the left and extending as far to the right as needed. As always, be sure to label your axes and include an informative legend.\n",
    "\n",
    "Comment on how the histogram shape changes as the game progresses. Namely, how does the length of the game affect the distribution of players' cash? How many modes are there, and why?"
   ]
  },
  {
   "cell_type": "code",
   "execution_count": 4,
   "metadata": {},
   "outputs": [
    {
     "data": {
      "image/png": "[encoded data removed]",
      "text/plain": [
       "<Figure size 576x288 with 1 Axes>"
      ]
     },
     "metadata": {
      "needs_background": "light"
     },
     "output_type": "display_data"
    }
   ],
   "source": [
    "def miniopoly_turn(state, cash, turns, bonus=500):\n",
    "    die = np.array([1,2,3,4,5,6])\n",
    "    card = np.array([-100,-25,50,100])\n",
    "    numTurns = 0\n",
    "    while(cash > 0 and numTurns < turns):\n",
    "        roll1 = np.random.choice(die)\n",
    "        roll2 = np.random.choice(die)\n",
    "        move = roll1+roll2\n",
    "        state = state+move\n",
    "        if (state > 39):\n",
    "            state = state - 39\n",
    "        if (state == 2 or state == 7 or state == 17 or state == 22 or state == 33 or state == 36):\n",
    "            cash = cash + np.random.choice(card)\n",
    "            if (cash <= 0):\n",
    "                return cash\n",
    "        elif (state == 20):\n",
    "            cash = cash+bonus\n",
    "        elif (state == -1):\n",
    "            rollj1 = np.random.choice(die)\n",
    "            rollj2 = np.random.choice(die)\n",
    "            if(rollj1 == rollj2):\n",
    "                state = 10+(rollj1*2)\n",
    "            else:\n",
    "                cash = cash - 20\n",
    "                if (cash <= 0):\n",
    "                    return cash\n",
    "        elif (state == 30):\n",
    "            state = -1\n",
    "        elif (state == 0):\n",
    "            cash = cash + 200\n",
    "        else:\n",
    "            cash = cash - state\n",
    "            if (cash <= 0):\n",
    "                return cash\n",
    "        numTurns += 1\n",
    "    return cash\n",
    "\n",
    "array = []\n",
    "array2 = []\n",
    "array3 = []\n",
    "for i in range (5000):\n",
    "    array.append(miniopoly_turn(0,200,20))\n",
    "    array2.append(miniopoly_turn(0,200,40))\n",
    "    array3.append(miniopoly_turn(0,200,60))\n",
    "array = np.array(array)\n",
    "array2 = np.array(array2)\n",
    "array3 = np.array(array3)\n",
    "#print(array)\n",
    "fig, ax0 = plt.subplots(figsize=(8,4))\n",
    "my_bins = range(0,1600,250)\n",
    "colors = ['blue','yellow','magenta']\n",
    "plt.hist([array,array2,array3], bins = my_bins, stacked = True, color = colors)\n",
    "ax0.set_title(\"Amount of Money after Miniopoly\", fontsize = 34)\n",
    "ax0.set_xlabel(\"End of Game Cash\", fontsize = 16)\n",
    "ax0.set_ylabel(\"Occurances\", fontsize = 16)\n",
    "legend = ax0.legend([\"20 Turns\", \"40 Turns\", \"60 Turns\"])\n"
   ]
  },
  {
   "cell_type": "markdown",
   "metadata": {},
   "source": [
    "As the number of turns increases the distribution of occurances becomes more uniform. Shorter games result in a much higher proportion of low money totals than longer games."
   ]
  },
  {
   "cell_type": "markdown",
   "metadata": {},
   "source": [
    "**Part C**: Use your code from **Parts A and B** to estimate the probability that a player goes bankrupt in the first 40 turns of the game. Use at least 10,000 simulations.\n",
    "\n",
    "Then, run a set of at least 10,000 simulations to estimate the probability that a player goes bankrupt in the first 40 turns of the game if you remove the Free Parking Bonus of \\$500, so if a player lands on Square 20, nothing happens. Here, you should be able to easily adapt your calls to the `miniopoly_turn` function to remove the Free Parking Bonus.\n",
    "\n",
    "A common criticism of the Free Parking Bonus is that it makes Monopoly games take much longer to play. Do your results support this claim? How does the Free Parking rule seem to affect the Miniopoly games? Fully explain and justify your answers.\n",
    "\n",
    "Do you like the Free Parking bonus rule?"
   ]
  },
  {
   "cell_type": "code",
   "execution_count": 5,
   "metadata": {},
   "outputs": [
    {
     "name": "stdout",
     "output_type": "stream",
     "text": [
      "There is a 68.76 percent chance that the player will go bankrupt after 40 turns with free parking\n",
      "There is a 98.11 percent chance that the player will go bankrupt after 40 turns without free parking\n"
     ]
    }
   ],
   "source": [
    "count = 0\n",
    "count2 = 0\n",
    "n = 10000\n",
    "for i in range (n):\n",
    "    if(miniopoly_turn(0,200,40) <= 0):\n",
    "        count +=1\n",
    "for i in range (n):\n",
    "    if(miniopoly_turn(0,200,40,0) <= 0):\n",
    "        count2 +=1\n",
    "print(\"There is a\", round((count/n)*100,4), \"percent chance that the player will go bankrupt after 40 turns with free parking\")\n",
    "print(\"There is a\", round((count2/n)*100,4), \"percent chance that the player will go bankrupt after 40 turns without free parking\")"
   ]
  },
  {
   "cell_type": "markdown",
   "metadata": {},
   "source": [
    "Removing the free parking bonus results in games ending much faster. Additionally, manipulating the number of turns, we can conclude that it would take thousands of turns to achive the same bankruptcy rate as a game without free parking. Personally, I feel like monopoly games are too long, and so do my friends so... free parking is awful. "
   ]
  },
  {
   "cell_type": "markdown",
   "metadata": {},
   "source": [
    "**Part D**: (Note: For the rest of this problem, use a Free Parking Bonus of \\$500.)\n",
    "\n",
    "Use your code from the previous parts to estimate the probability that a player ***does not*** go bankrupt in the first 40 turns _given_ that they have landed on Free Parking at least once.  Is a player more or less likely to go bankrupt if they've landed on Free Parking? Use at least 10,000 simulations of 40-turn games, and keep at least 4 decimal places in your answer."
   ]
  },
  {
   "cell_type": "code",
   "execution_count": 48,
   "metadata": {},
   "outputs": [
    {
     "name": "stdout",
     "output_type": "stream",
     "text": [
      "The probability of not going bankrupt give that a player lands on Free Parking in the first 40 turns of a game is 31.34 percent.\n"
     ]
    }
   ],
   "source": [
    "def miniopoly_turn1(state, cash, turns, bonus=500):\n",
    "    die = np.array([1,2,3,4,5,6])\n",
    "    card = np.array([-100,-25,50,100])\n",
    "    numTurns = 0\n",
    "    landed = False\n",
    "    while(cash > 0 and numTurns < turns):\n",
    "        roll1 = np.random.choice(die)\n",
    "        roll2 = np.random.choice(die)\n",
    "        move = roll1+roll2\n",
    "        state = state+move\n",
    "        if (state > 39):\n",
    "            state = state - 39\n",
    "        if (state == 2 or state == 7 or state == 17 or state == 22 or state == 33 or state == 36):\n",
    "            cash = cash + np.random.choice(card)\n",
    "            if (cash <= 0):\n",
    "                return [cash,landed]\n",
    "        elif (state == 20):\n",
    "            cash = cash+bonus\n",
    "            landed = True\n",
    "        elif (state == -1):\n",
    "            rollj1 = np.random.choice(die)\n",
    "            rollj2 = np.random.choice(die)\n",
    "            if(rollj1 == rollj2):\n",
    "                state = 10+(rollj1*2)\n",
    "            else:\n",
    "                cash = cash - 20\n",
    "                if (cash <= 0):\n",
    "                    return [cash,landed]\n",
    "        elif (state == 30):\n",
    "            state = -1\n",
    "        elif (state == 0):\n",
    "            cash = cash + 200\n",
    "        else:\n",
    "            cash = cash - state\n",
    "            if (cash <= 0):\n",
    "                return [cash,landed]\n",
    "        numTurns += 1\n",
    "    return [cash,landed]\n",
    "    \n",
    "count = 0\n",
    "n = 10000\n",
    "for i in range (n):\n",
    "    array = miniopoly_turn1(0,200,40)\n",
    "    if ((array[1] == True) and (array[0] > 0)):\n",
    "        count += 1\n",
    "print(\"The probability of not going bankrupt give that a player lands on Free Parking in the first 40 turns of a game is\", round(((count/n)*100),4), \"percent.\")    "
   ]
  },
  {
   "cell_type": "markdown",
   "metadata": {},
   "source": [
    "**Part E**: Use your code from the previous parts to estimate the probability (either directly or using Bayes' Rule) that a player has landed on Free Parking at least once, given that the player did not go bankrupt in the first 40 turns."
   ]
  },
  {
   "cell_type": "code",
   "execution_count": 52,
   "metadata": {},
   "outputs": [
    {
     "name": "stdout",
     "output_type": "stream",
     "text": [
      "The probability that a player has landed on Free Parking at least once, given that the player did not go bankrupt in the first 40 turns is 98.4244\n"
     ]
    }
   ],
   "source": [
    "count = 0\n",
    "freeparking = 0\n",
    "n = 10000\n",
    "for i in range(n):\n",
    "    bungList = miniopoly_turn1(0,200,40)\n",
    "    if(bungList[0]>0):\n",
    "        count += 1\n",
    "        if(bungList[1] > 0):\n",
    "            freeparking += 1\n",
    "print(\"The probability that a player has landed on Free Parking at least once, given that the player did not go bankrupt in the first 40 turns is\", round((freeparking/count)*100,4) )"
   ]
  },
  {
   "cell_type": "markdown",
   "metadata": {},
   "source": []
  }
 ],
 "metadata": {
  "kernelspec": {
   "display_name": "Python 3",
   "language": "python",
   "name": "python3"
  },
  "language_info": {
   "codemirror_mode": {
    "name": "ipython",
    "version": 3
   },
   "file_extension": ".py",
   "mimetype": "text/x-python",
   "name": "python",
   "nbconvert_exporter": "python",
   "pygments_lexer": "ipython3",
   "version": "3.7.1"
  }
 },
 "nbformat": 4,
 "nbformat_minor": 2
}
