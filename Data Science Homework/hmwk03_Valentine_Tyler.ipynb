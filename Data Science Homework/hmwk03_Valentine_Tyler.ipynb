{
 "cells": [
  {
   "cell_type": "markdown",
   "metadata": {},
   "source": [
    "### <a/ id='top'></a>\n",
    "# Homework 3: Random Variables, and the Central Limit Theorem\n",
    "***\n",
    "\n",
    "**Name**: \n",
    "\n",
    "***\n",
    "\n",
    "This assignment is due on Canvas by **5 PM on Monday March 18**. Your solutions to theoretical questions should be done in Markdown/MathJax directly below the associated question.  Your solutions to computational questions should include any specified Python code and results as well as written commentary on your conclusions.  Remember that you are encouraged to discuss the problems with your instructors and classmates, but **you must write all code and solutions on your own**. \n",
    "\n",
    "**NOTES**: \n",
    "\n",
    "- Any relevant data sets should be available under the **Data** module on Canvas, as well as in the zipped folder in which you obtained this assignment. \n",
    "- Do **NOT** load or use any Python packages that are not available in Anaconda 3.6. \n",
    "- Because you can technically evaluate notebook cells in a non-linear order, it's a good idea to do Kernel $\\rightarrow$ Restart & Run All as a check before submitting your solutions.  That way if we need to run your code you will know that it will work as expected. \n",
    "- It is **bad form** to make your reader interpret numerical output from your code.  If a question asks you to compute some value from the data you should show your code output **AND** write a summary of the results in Markdown directly below your code. \n",
    "- You **MUST** leave all of your notebook cells **evaluated** so the graders do not need to re-evaluate them. For 100+ students, this extra time adds up, and makes the graders' lives unnecessarily more difficult.\n",
    "- This probably goes without saying, but... For any question that asks you to calculate something, you **must show all work and justify your answers to receive credit**. Sparse or nonexistent work will receive sparse or nonexistent credit. \n",
    "- Submit only this Jupyter notebook to Canvas.  Do not compress it using tar, rar, zip, etc. \n",
    "\n",
    "---\n",
    "**Shortcuts:**  [Problem 1](#p1) | [Problem 2](#p2) | [Problem 3](#p3) | [Problem 4](#p4) \n",
    "\n",
    "---"
   ]
  },
  {
   "cell_type": "code",
   "execution_count": 1,
   "metadata": {
    "scrolled": true
   },
   "outputs": [],
   "source": [
    "import pandas as pd\n",
    "import numpy as np\n",
    "import scipy.stats as stats\n",
    "import math\n",
    "from scipy.special import binom\n",
    "import matplotlib.pylab as plt\n",
    "%matplotlib inline"
   ]
  },
  {
   "cell_type": "code",
   "execution_count": 2,
   "metadata": {},
   "outputs": [],
   "source": [
    "#file_path = 'D:\\Valentine\\CU\\CSCI-3022\\arrivals.csv'\n",
    "df = pd.read_csv(\"arrivals.csv\")"
   ]
  },
  {
   "cell_type": "markdown",
   "metadata": {},
   "source": [
    "<br>\n",
    "\n",
    "---\n",
    "<a/ id='p1'></a>\n",
    "[Back to top](#top)\n",
    "\n",
    "<img src=\"https://media.daysoftheyear.com/20171223112636/hedgehog-day1.jpg\" style=\"width: 500px;\"/>\n",
    "\n",
    "\n",
    "### [25 points] Problem 1\n",
    "\n",
    "Suppose you are modeling the probability of observing various levels of cuteness in hedgehogs you encounter.  Let $X$ be a random variable representing the observed cuteness, which is *obviously* nonnegative and has units of deci*awws*. You decide to use the following pdf for $X$:\n",
    "\n",
    "$$\n",
    "f(x) = \\begin{cases}\n",
    "         c \\ x \\ e^{\\left(-\\frac{x^2}{4}\\right)} & 0 \\leq x < \\infty \\\\\n",
    "         0                           & \\text{otherwise}\n",
    "       \\end{cases}\n",
    "$$\n",
    "where $c$ is some normalizing constant.\n",
    "\n",
    "**Part A**: Determine the value of $c$ such that $f(x)$ is a valid probability density function. Then, make a plot of the probability density function for hedgehog cuteness, $f(x)$. Be sure to label your axes!"
   ]
  },
  {
   "cell_type": "markdown",
   "metadata": {},
   "source": [
    "$\\int_{0}^{\\infty}cxe^{-\\tfrac{x^2}{4}}dx=1$\n",
    "\n",
    "=\n",
    "\n",
    "$c \\int_{0}^{\\infty} x^{2-1} e^{-\\tfrac{1}{4}x^2}dx=1$\n",
    "\n",
    "=\n",
    "\n",
    "$\\int_{0}^{\\infty} e^{-ax^2}x^{n-1}dx = \\frac{\\sqrt{\\tfrac{n}{2}}}{2a^{\\tfrac{n}{2}}}$ with n = 2 and a = $\\frac{1}{4}$\n",
    "\n",
    "so\n",
    "\n",
    "$c * \\frac{1}{\\tfrac{1}{2}} = 1$\n",
    "\n",
    "$c * 2 = 1$\n",
    "\n",
    "$c = \\frac{1}{2}$ or $0.5$\n",
    "\n"
   ]
  },
  {
   "cell_type": "code",
   "execution_count": 3,
   "metadata": {},
   "outputs": [
    {
     "data": {
      "text/plain": [
       "Text(0, 0.5, 'Probability Density')"
      ]
     },
     "execution_count": 3,
     "metadata": {},
     "output_type": "execute_result"
    },
    {
     "data": {
      "image/png": "[encoded data removed]",
      "text/plain": [
       "<Figure size 864x432 with 1 Axes>"
      ]
     },
     "metadata": {
      "needs_background": "light"
     },
     "output_type": "display_data"
    }
   ],
   "source": [
    "x = np.linspace(0, 7, 5000)\n",
    "y = (1/2)*x*np.e**(-(x**2)/4)\n",
    "fig, ax = plt.subplots(figsize=(12,6))\n",
    "plt.plot(x,y, color = 'chocolate')\n",
    "\n",
    "ax.set_title(\"Hedgehog Cute Factor\", fontsize = 26)\n",
    "ax.set_xlabel(\"Deciawwwwww Level\", fontsize = 16)\n",
    "ax.set_ylabel(\"Probability Density\", fontsize = 16)\n",
    "\n",
    "\n",
    "\n"
   ]
  },
  {
   "cell_type": "markdown",
   "metadata": {},
   "source": [
    "**Part B**: Compute *by hand* the cumulative density (cdf) function $F(x)$ for $X$."
   ]
  },
  {
   "cell_type": "markdown",
   "metadata": {
    "collapsed": true
   },
   "source": [
    "$\\int_{0}^{x}\\tfrac{1}{2}xe^{-\\tfrac{x^2}{4}}dx$\n",
    "\n",
    "$\\frac{1}{2}\\int_{0}^{x}xe^{-\\tfrac{x^2}{4}}dx$\n",
    "\n",
    "u sub with u = $x^2$\n",
    "\n",
    "$\\frac{1}{2}\\int_{0}^{x}\\frac{e^{-\\tfrac{u}{4}}}{2}du$\n",
    "\n",
    "$\\frac{1}{4}\\int_{0}^{x}e^{-\\tfrac{u}{4}}du$\n",
    "\n",
    "v sub v = $\\frac{-u}{4}$\n",
    "\n",
    "$\\frac{1}{4}\\int_{0}^{x}-4e^vdv$\n",
    "\n",
    "subbing back in for v and u\n",
    "\n",
    "$\\int_{0}^{x}-e^{-\\tfrac{x^2}{4}}dx$\n",
    "\n",
    "$-e^{-\\tfrac{x^2}{4}})\\left. \\right|_{0}^{x}$\n",
    "\n",
    "$-e^{-\\tfrac{x^2}{4}}+1$\n",
    "\n",
    "$1-e^{-\\tfrac{x^2}{4}}$\n",
    "\n",
    "so\n",
    "\n",
    "$\n",
    "f(x) = \\begin{cases}\n",
    "         1-e^{\\left(-\\frac{x^2}{4}\\right)} & 0 \\leq x < \\infty \\\\\n",
    "         0                           & \\text{otherwise}\n",
    "       \\end{cases}\n",
    "$\n",
    "\n",
    "\n",
    "\n",
    "\n",
    "\n"
   ]
  },
  {
   "cell_type": "markdown",
   "metadata": {},
   "source": [
    "**Part C:**  Use the cdf you derived in **Part B** to calculate the median ($\\tilde{x}$) cuteness of all hedgehogs."
   ]
  },
  {
   "cell_type": "markdown",
   "metadata": {
    "collapsed": true
   },
   "source": [
    "let d = median\n",
    "\n",
    "We know from part A that $F_X(d) = 0.5$\n",
    "\n",
    "thus\n",
    "\n",
    "$1-e^{-\\tfrac{d^2}{4}} = 0.5$\n",
    "\n",
    "$1-0.5 = e^{-\\tfrac{d^2}{4}}$\n",
    "\n",
    "$ln(0.5) = -\\tfrac{d^2}{4}$\n",
    "\n",
    "$-4ln(0.5) = d^2$\n",
    "\n",
    "$d = \\sqrt{-4ln(0.5)}$\n",
    "\n",
    "$d = 1.66511$\n",
    "\n",
    "\n"
   ]
  },
  {
   "cell_type": "markdown",
   "metadata": {},
   "source": [
    "**Part D**: It is a well-known fact that any hedgehog whose cuteness exceeds 3 deciawws is **totes adorbz**. Use the cdf you computed in **Part B** to find the probability that any arbitrary hedgehog that you observe is totes adorbz."
   ]
  },
  {
   "cell_type": "markdown",
   "metadata": {
    "collapsed": true
   },
   "source": [
    "$P(cute>3) = 1-P(cute\\le3)$\n",
    "\n",
    "$= 1-(1-e^{-\\tfrac{3^2}{4}})$\n",
    "\n",
    "$= 1-1+e^{-\\tfrac{3^2}{4}}$\n",
    "\n",
    "$= .10540$"
   ]
  },
  {
   "cell_type": "markdown",
   "metadata": {},
   "source": [
    "**Part E:** You have been painstakingly collecting data on hedgehogs all over town, and the cuteness is damn near overwhelming. Suppose you sample 5 hedgehogs, and the cuteness of any given hedgehog is independent of the cuteness of all other hedgehogs. What is the probability that more than half of them are totes adorbz? Keep at least 5 decimal places in your answer."
   ]
  },
  {
   "cell_type": "markdown",
   "metadata": {
    "collapsed": true
   },
   "source": [
    ".000013"
   ]
  },
  {
   "cell_type": "markdown",
   "metadata": {
    "collapsed": true
   },
   "source": [
    "<br>\n",
    "\n",
    "---\n",
    "<a/ id='p2'></a>\n",
    "[Back to top](#top)\n",
    "### [25 points] Problem 2 - Monte Carlo Estimation of Definite Integrals\n",
    "\n",
    "One really cool application of random variables is using them to approximate integrals/area under a curve.  This method of approximating integrals is used frequently in computational science to approximate really difficult integrals that we never want to do by hand.  In this exercise you'll figure out how we can do this in practice and test your method on a relatively simple integral. "
   ]
  },
  {
   "cell_type": "markdown",
   "metadata": {
    "collapsed": true
   },
   "source": [
    "**Part A.**  Let $X$ be a random variable representing how delicious a pie you bake is, as measured by the **Deliciousness Index** (DI).  Suppose the probability density function for $X$ is described by the raised cosine probability density function:\n",
    "\n",
    "$$\n",
    "f(x) = \\begin{cases}\n",
    "         \\dfrac{1}{\\pi}\\left(\\cos{(x)} + 1\\right) & 0 \\leq x \\leq \\pi \\\\\n",
    "         0                           & \\text{otherwise}\n",
    "         \\end{cases}\n",
    "$$\n",
    "\n",
    "A Deliciousness Index of $\\pi$ is the most delicious pie you can ever hope to create, and a DI of $0$ is the most disgusting pie you have ever tasted.  \n",
    "\n",
    "Compute **by hand**, the integral of $f(x)$ for $0 \\leq x \\leq \\dfrac{\\pi}{2}$.  Write a sentence or two to interpret your result physically, in the context of this problem set-up."
   ]
  },
  {
   "cell_type": "markdown",
   "metadata": {
    "collapsed": true
   },
   "source": [
    "$\\int_{0}^{\\tfrac{\\pi}{2}}\\frac{1}{\\pi}(cos(x)+1)$\n",
    "\n",
    "$= \\frac{1}{\\pi}(sin(x)+x) \\left. \\right|_{0}^{\\tfrac{\\pi}{2}}$\n",
    "\n",
    "$= \\frac{2+\\pi}{2\\pi}$\n",
    "\n",
    "$= .8183$\n",
    "\n",
    "This means that there is an approximately 82% chance that the random variable X lies between 0 and $\\frac{\\pi}{2}$\n"
   ]
  },
  {
   "cell_type": "markdown",
   "metadata": {},
   "source": [
    "**Part B.** Suppose we sample a random variable $X$ from $U(0,\\frac{\\pi}{2})$ and another random variable $Y$ from $U(0,1)$ and think of them as $x$- and $y$-coordinates of a point in the box $[0,\\frac{\\pi}{2}] \\times [0,1]$.  If we compute the ratio of points that fall under the curve $f(x)$ to the total points sampled, what does this value estimate? "
   ]
  },
  {
   "cell_type": "markdown",
   "metadata": {
    "collapsed": true
   },
   "source": [
    "This is simply the probability that a given point in the 'box' $(0 - \\tfrac{\\pi}{2}$ X $0 - 1)$ lies beneith the curve produced by the function $\\frac{1}{\\pi}(cos(x)+1)$ for $(0 \\le x \\le \\tfrac{\\pi}{2})$"
   ]
  },
  {
   "cell_type": "markdown",
   "metadata": {},
   "source": [
    "**Part C.** How could we modify the process outlined in **Part B** so that our estimator estimates the value of the desired integral?  If you need inspiration, check out the in-class notebook on Stochastic Simulation (#4), specifically, the exercise where we estimated $\\pi$!"
   ]
  },
  {
   "cell_type": "markdown",
   "metadata": {
    "collapsed": true
   },
   "source": [
    "In part B the total area of our box will be $\\frac{\\pi}{2}$ or about 1.5708 and the area under our curve is still .8183, thus our probability equals about .5209. In order for this probability to match the number we got in part A we would want to multiply our results from part B by $\\frac{\\pi}{2}$ in order to represent the difference between the area of the box, $\\frac{\\pi}{2}$ and the total probability, 1."
   ]
  },
  {
   "cell_type": "markdown",
   "metadata": {},
   "source": [
    "**Part D.** Complete the function `integrate` below to compute an approximation to the definition integral $\\int_0^{\\text{ub}} f(x)dx$.  Your function should take as arguments:\n",
    "1. `num_samples` -- the number of points to sample,\n",
    "2. `ub` -- a number between $0$ and $\\pi$ that is the upper bound of the integral, and\n",
    "3. `isPlot` -- a Boolean flag for whether or not to display a plot of the results.\n",
    "\n",
    "Your function should return an approximation of the definite integral by sampling $X$ from $U(0,\\text{ub})$ and $Y$ from $U(0,1)$. For each random draw $(X,Y)$, define the random variable $Z$ that represents whether or not the sampled $Y$ value is less than $f(X)$ for the corresponding $X$ value.\n",
    "\n",
    "Your function should perform three tasks: \n",
    "\n",
    "1. return the estimate of the value of the integral,\n",
    "2. return the sample variance of the random variable $Z$ being simulated, using the np.var function, and\n",
    "3. if `isPlot` is True, plot the curve $f(x)$ as well as the location of the points $(X,Y)$, colored according to whether they fall above or below the curve. "
   ]
  },
  {
   "cell_type": "code",
   "execution_count": 4,
   "metadata": {},
   "outputs": [],
   "source": [
    "# GIVEN CODE - Do not change the inputs/outputs or your code will fail unit tests and auto-grading!\n",
    "def integrate(num_samples, ub, isPlot):\n",
    "    if (ub == 0):\n",
    "        estimate = 0\n",
    "        sample_var = 0\n",
    "    else:\n",
    "        y = stats.uniform.rvs(0.0,1.0,size = num_samples)\n",
    "        x = stats.uniform.rvs(0.0,ub,size = num_samples)\n",
    "        z = []\n",
    "        abovex = []\n",
    "        abovey = []\n",
    "        belowx = []\n",
    "        belowy = []\n",
    "\n",
    "        total = 0\n",
    "        for i in range (num_samples):\n",
    "            value = (1/(math.pi))*(math.cos(x[i])+1)\n",
    "            if (y[i] < value):\n",
    "                total += 1\n",
    "                z.append(1)\n",
    "                belowx.append(x[i])\n",
    "                belowy.append(y[i])\n",
    "            else:\n",
    "                z.append(0)\n",
    "                abovex.append(x[i])\n",
    "                abovey.append(y[i])\n",
    "        z = np.array(z)\n",
    "        estimate = (total/num_samples)*ub\n",
    "        sample_var = np.var(z)\n",
    "        if (isPlot == True):\n",
    "            ex = np.linspace(0, math.pi, 10000)\n",
    "            why = (1/math.pi)*(np.cos(ex)+1)\n",
    "            fig, ax = plt.subplots(figsize=(12,6))\n",
    "            plt.plot(ex,why, color = 'black')\n",
    "            plt.scatter(abovex,abovey,color = 'fuchsia')\n",
    "            plt.scatter(belowx,belowy,color = 'darkturquoise')\n",
    "\n",
    "            ax.set_title(\"I Like Pie!\", fontsize = 26)\n",
    "            ax.set_xlabel(\"Pie DI\", fontsize = 16)\n",
    "            ax.set_ylabel(\"Probability Density\", fontsize = 16)\n",
    "\n",
    "            ax.legend([\"f(x) = 1/pi(cos(x)+1)\",\"Hits Above the Curve\",\"Hits Below the Curve\"])\n",
    "\n",
    "        \n",
    "    \n",
    "    return estimate, sample_var"
   ]
  },
  {
   "cell_type": "markdown",
   "metadata": {},
   "source": [
    "**Part E.** Write your own small unit tests!\n",
    "\n",
    "First, what should your `integrate` function output if you plug in `ub=0`? Set that as `int_0_to_0` below.\n",
    "\n",
    "Second, what should your `integrate` function output if you plug in `ub=`$\\pi$? Set that as `int_0_to_pi` below.\n",
    "\n",
    "Then, you can execute the cell below to run two sanity checks. Write out **in math** (like, a definite integral) what each of these two tests is checking and **why** that is a reasonable sanity check.\n",
    "\n",
    "If these two assertions run without fail, then things seem to be working okay. Note that the upper endpoint test is stochastic, so if it fails, try running it a few times. If it fails a lot, then things are probably going wrong."
   ]
  },
  {
   "cell_type": "code",
   "execution_count": 5,
   "metadata": {},
   "outputs": [],
   "source": [
    "int_0_to_0  = integrate(1000,0,False)[0]\n",
    "int_0_to_pi = integrate(10000,np.pi,False)[0]\n",
    "\n",
    "\n",
    "#---------------------------------------\n",
    "# DO NOT EDIT THIS CELL BELOW HERE\n",
    "#---------------------------------------\n",
    "assert integrate(1000, 0, False)[0]==int_0_to_0, \"Error: lower endpoint test failing\"\n",
    "assert math.isclose(integrate(10000, np.pi, False)[0],int_0_to_pi,abs_tol=0.03), \"Error: upper endpoint test failing\""
   ]
  },
  {
   "cell_type": "code",
   "execution_count": null,
   "metadata": {},
   "outputs": [],
   "source": []
  },
  {
   "cell_type": "markdown",
   "metadata": {},
   "source": [
    "**Part F.** Run your simulation with `isPlot=True` and `ub=`$\\frac{\\pi}{2}$ for 1,000 samples so we can see your plot. Then, run your simulation (with `isPlot=False`) with at least 10,000 samples and estimate the value of the given integral. Be sure to leave your cells evaluated for the graders! Does your estimate agree with the exact value of the integral you computed in **Part A**? "
   ]
  },
  {
   "cell_type": "code",
   "execution_count": 6,
   "metadata": {},
   "outputs": [
    {
     "data": {
      "text/plain": [
       "(0.8403760348352697, 0.24877499999999997)"
      ]
     },
     "execution_count": 6,
     "metadata": {},
     "output_type": "execute_result"
    },
    {
     "data": {
      "image/png": "[encoded data removed]",
      "text/plain": [
       "<Figure size 864x432 with 1 Axes>"
      ]
     },
     "metadata": {
      "needs_background": "light"
     },
     "output_type": "display_data"
    }
   ],
   "source": [
    "integrate(1000,np.pi/2,True)\n"
   ]
  },
  {
   "cell_type": "code",
   "execution_count": 7,
   "metadata": {},
   "outputs": [
    {
     "data": {
      "text/plain": [
       "(0.8163341139729028, 0.24961212911921737)"
      ]
     },
     "execution_count": 7,
     "metadata": {},
     "output_type": "execute_result"
    }
   ],
   "source": [
    "integrate(71213,math.pi/2,False)"
   ]
  },
  {
   "cell_type": "markdown",
   "metadata": {
    "collapsed": true
   },
   "source": [
    "<br>\n",
    "\n",
    "---\n",
    "<a/ id='p3'></a>\n",
    "[Back to top](#top)\n",
    "### [25 points] Problem 3 - Mmmm... Donuts...\n",
    "\n",
    "<img src=\"http://astrokentico.s3.amazonaws.com/rojakdaily/media/1nichoras/homer%20simpson%20krispy%20kreme/main.jpg?ext=.jpg\" style=\"width:300px;\"/>\n",
    "\n",
    "You bring many donuts (or _doughnuts_, if you're into that) to work to share with your coworkers at the Boulder Nuclear Power Planet. But due to the high levels of radiation there, they must be inspected for safety. In particular, if the mean level of radiation in a sample from your batch of donuts is above [200 mSv (millisievert)](#rad), then they are deemed unsafe and you must throw the whole batch away.\n",
    "\n",
    "You know that historically donuts at the power plant have, on average, 190 mSv of radiation, with a standard deviation of 40 mSv. To test the donut radiation levels, you take the donut receipt and pick every fifth donut off it, and sample the radiation levels of those donuts. You end up sampling the radiation levels of 36 donuts out of the batch."
   ]
  },
  {
   "cell_type": "markdown",
   "metadata": {},
   "source": [
    "**Part A.** What is the probability that a donut batch is deemed unsafe?  You should at the very least set up and justify your calculation by hand (in Markdown/Mathjax), before executing any calculations in Python."
   ]
  },
  {
   "cell_type": "markdown",
   "metadata": {},
   "source": [
    "Given that $\\mu$= 190mSv $\\alpha$= 40mSv n = 36\n",
    "\n",
    "$P(X > 200) = P(\\frac{x-\\mu}{\\tfrac{\\alpha}{\\sqrt{n}}} > \\frac{200-190}{\\tfrac{40}{\\sqrt{36}}}) = P(\\frac{x-\\mu}{\\tfrac{\\alpha}{\\sqrt{n}}} > 1.5)$\n",
    "\n",
    "\n",
    "\n"
   ]
  },
  {
   "cell_type": "code",
   "execution_count": 8,
   "metadata": {},
   "outputs": [
    {
     "name": "stdout",
     "output_type": "stream",
     "text": [
      "There is a 6.68 percent chance that a batch will be unsafe\n"
     ]
    }
   ],
   "source": [
    "z = (stats.norm.cdf(1.5))\n",
    "prob = 1-z\n",
    "print(\"There is a\", round(prob,4)*100, \"percent chance that a batch will be unsafe\")"
   ]
  },
  {
   "cell_type": "markdown",
   "metadata": {},
   "source": [
    "**Part B.** You really do not want to throw away donuts that frequently, so you propose to store the donuts in a lead-lined donut box. But lead also is not very good for your health, so you are motivated to use the least amount of lead possible. What is the minimum mean amount of radiation $\\mu$ for our donuts to have such that the probability that we will throw donuts out due to safety concerns is at most 0.01?\n",
    "\n",
    "Calculate this **by hand**, using Python only to perform arithmetic operations and compute critical values of a standard normal random variable."
   ]
  },
  {
   "cell_type": "code",
   "execution_count": 9,
   "metadata": {},
   "outputs": [
    {
     "name": "stdout",
     "output_type": "stream",
     "text": [
      "2.3263478740408408\n"
     ]
    }
   ],
   "source": [
    "z = (stats.norm.ppf(.01)) * -1\n",
    "print(z)\n"
   ]
  },
  {
   "cell_type": "markdown",
   "metadata": {},
   "source": [
    "$\\frac{200-\\mu}{\\tfrac{40}{\\sqrt{36}}} = 2.326348$\n",
    "\n",
    "$2.326348*\\frac{40}{\\sqrt{36}}-200 = -\\mu$\n",
    "\n",
    "$\\mu = 200 - 2.326348*\\frac{40}{\\sqrt{36}}$\n",
    "\n",
    "$\\mu = 184.491$mSv"
   ]
  },
  {
   "cell_type": "markdown",
   "metadata": {},
   "source": [
    "**Part C.**  Your supervisor at the plant decides that serving up donuts in a lead-lined box is a bad idea. Fair enough.\n",
    "\n",
    "But she is still imposing the requirement that the probability of a batch of donuts being rejected must be less than 0.01. Suppose the mean and standard deviation are at their original values of $\\mu = 190$ mSv and $\\sigma = 40$ mSv. What is the minimum sample size to satisfy this requirement?\n",
    "\n",
    "Calculate this **by hand**, using Python only to perform arithmetic operations and compute critical values of a standard normal random variable."
   ]
  },
  {
   "cell_type": "markdown",
   "metadata": {},
   "source": [
    "$\\frac{200-190}{\\tfrac{40}{\\sqrt{n}}} = 2.326348$\n",
    "\n",
    "$10*\\tfrac{\\sqrt{n}}{40} = 2.326348$\n",
    "\n",
    "$10*\\sqrt{n} = 2.326348 * 40$\n",
    "\n",
    "$\\sqrt{n} = 2.326348 * 4$\n",
    "\n",
    "$n = 9.305392^2$\n",
    "\n",
    "$n = 86.59032027$\n",
    "\n",
    "Looks like we would need 87 DOUGHNUTS to make this happen boss"
   ]
  },
  {
   "cell_type": "markdown",
   "metadata": {
    "collapsed": true
   },
   "source": [
    "**Part D.** Can you think of any potential issues with using a normal distribution to model the radiation content of our donuts?"
   ]
  },
  {
   "cell_type": "code",
   "execution_count": 12,
   "metadata": {},
   "outputs": [
    {
     "data": {
      "text/plain": [
       "Text(0, 0.5, 'Density')"
      ]
     },
     "execution_count": 12,
     "metadata": {},
     "output_type": "execute_result"
    },
    {
     "data": {
      "image/png": "[encoded data removed]",
      "text/plain": [
       "<Figure size 432x288 with 1 Axes>"
      ]
     },
     "metadata": {
      "needs_background": "light"
     },
     "output_type": "display_data"
    }
   ],
   "source": [
    "z = stats.norm.rvs(loc=190,scale=40**2/36,size=100000)\n",
    "plt.hist(z, density = True, edgecolor = 'coral', facecolor = 'darkblue')\n",
    "plt.xlim([-10,10])\n",
    "plt.ylim([0,0.0001])\n",
    "plt.xlabel('Z')\n",
    "plt.ylabel('Density')"
   ]
  },
  {
   "cell_type": "markdown",
   "metadata": {},
   "source": [
    "With the normal distibution there exists the possability that some rvs values could lie below 0, however it is impossible for there to be a negative radiation level when measured in mSv."
   ]
  },
  {
   "cell_type": "markdown",
   "metadata": {},
   "source": [
    "<br>\n",
    "\n",
    "---\n",
    "<a/ id='p4'></a>\n",
    "[Back to top](#top)\n",
    "### [25 points] Problem 4 - Here come the hedgehogs\n",
    "\n",
    "**Part A:** You are conducting a study of the cuteness of hedgehogs, because you want to verify the calculations from Problem 1. You set up a data collection center, and record in your data set the time when each hedgehog arrives at your site. The data are found in `arrivals.csv`.\n",
    "\n",
    "Load these data into a Pandas DataFrame, compute the time span between successive hedgehog arrivals, and plot a density histogram of those inter-hedgehog arrival times.\n",
    "\n",
    "To best capture the majesty of the mighty hedgehog, your histogram boxes should be `sienna` with `khaki` edges. Your histogram should also have 50 bins, because hedgehogs love histograms with 50 bins. Hedgehogs are illiterate, so they don't really care about axis labels, but your instructor does. So, be sure to label your axes too."
   ]
  },
  {
   "cell_type": "code",
   "execution_count": 13,
   "metadata": {},
   "outputs": [
    {
     "data": {
      "text/plain": [
       "Text(0, 0.5, 'Density')"
      ]
     },
     "execution_count": 13,
     "metadata": {},
     "output_type": "execute_result"
    },
    {
     "data": {
      "image/png": "[encoded data removed]",
      "text/plain": [
       "<Figure size 576x288 with 1 Axes>"
      ]
     },
     "metadata": {
      "needs_background": "light"
     },
     "output_type": "display_data"
    }
   ],
   "source": [
    "df.head(100)\n",
    "fig, ax = plt.subplots(figsize=(8,4))\n",
    "my_bins = range(0,1700,34)\n",
    "df.hist(column=\"hedgehogs\", ax=ax, bins = my_bins, facecolor = 'sienna', edgecolor = 'khaki', density = True);\n",
    "ax.set_title(\"Hedgehog Arrival Times\", fontsize = 34)\n",
    "ax.set_xlabel(\"Arrival Time\", fontsize = 16)\n",
    "ax.set_ylabel(\"Density\", fontsize = 16)"
   ]
  },
  {
   "cell_type": "markdown",
   "metadata": {},
   "source": [
    "**Part B:** Compute a 99% confidence interval (to 4 decimal places) for the mean of the inter-hedgehog arrival time. If you use any theorem(s) in your calculation, be sure to state what they are and why the theorem(s) can be applied. "
   ]
  },
  {
   "cell_type": "markdown",
   "metadata": {},
   "source": [
    "I used the Central Limit Theroem for this problem."
   ]
  },
  {
   "cell_type": "code",
   "execution_count": 14,
   "metadata": {},
   "outputs": [
    {
     "name": "stdout",
     "output_type": "stream",
     "text": [
      "Our 99% CI lies in the interval (676.4869, 933.1118)\n"
     ]
    }
   ],
   "source": [
    "z = stats.norm.ppf(.995)\n",
    "avg = df.mean()\n",
    "sd = df.std()\n",
    "sd = sd.values[0]\n",
    "avg = avg.values[0]\n",
    "\n",
    "percent99CIlow = avg-(z*(sd/10))\n",
    "percent99CIhigh = avg+(z*(sd/10))\n",
    "percent99CIlow = round(percent99CIlow,4)\n",
    "percent99CIhigh = round(percent99CIhigh,4)\n",
    "\n",
    "percent99CI = (percent99CIlow,percent99CIhigh)\n",
    "print(\"Our 99% CI lies in the interval\", percent99CI)"
   ]
  },
  {
   "cell_type": "markdown",
   "metadata": {},
   "source": [
    "**Part C:** Speculate: what would happen if you hadn't included all the data in your confidence interval calculation above? Specifically, if you only observed the first 30 of your data points and used those to compute a confidence interval, would it be wider or less wide? Why? You may assume that the number of data points is the *only* thing changing in this hypothetical situation."
   ]
  },
  {
   "cell_type": "markdown",
   "metadata": {
    "collapsed": true
   },
   "source": [
    "With all other variables being equal and the number of samples being 30 instead of 100 the convidence interval will be significantly larger due to the n value being a denominator in our equation."
   ]
  },
  {
   "cell_type": "markdown",
   "metadata": {},
   "source": [
    "**Part D:** Write a function to confirm what you have written above. For each value of $n$ between $30$ and the total number of data points, compute a 90% CI using the first $n$ inter-arrival times. Plot the CIs (vertical axis) against $n$ (horizontal axis). Plot the means as black X symbols, with vertical \"errorbars\" for the CIs colored `sienna`. See Matplotlib's [errorbar](https://matplotlib.org/api/_as_gen/matplotlib.pyplot.errorbar.html) plot type. Be sure to label your axes!"
   ]
  },
  {
   "cell_type": "code",
   "execution_count": 15,
   "metadata": {},
   "outputs": [
    {
     "data": {
      "image/png": "[encoded data removed]",
      "text/plain": [
       "<Figure size 864x432 with 1 Axes>"
      ]
     },
     "metadata": {
      "needs_background": "light"
     },
     "output_type": "display_data"
    }
   ],
   "source": [
    "#def proofabove(n):\n",
    "    #z = stats.norm.ppf(.995)\n",
    "    #avg = df.mean()\n",
    "    #sd = df.std()\n",
    "    #sd = sd.values[0]\n",
    "    #avg = avg.values[0]\n",
    "\n",
    "    #percent99CIlow = avg-(z*(sd/np.sqrt(n)))\n",
    "    #percent99CIhigh = avg+(z*(sd/np.sqrt(n)))\n",
    "    #percent99CIlow = round(percent99CIlow,4)\n",
    "    #percent99CIhigh = round(percent99CIhigh,4)\n",
    "\n",
    "    #percent99CI = (percent99CIlow,percent99CIhigh)\n",
    "    #return(percent99CI)\n",
    "\n",
    "def CIcalc(n,alpha):\n",
    "    z = stats.norm.ppf(1-alpha/2)\n",
    "    c = 30\n",
    "    #truemean = df.mean()\n",
    "    #truemean = truemean.values[0]\n",
    "    fig, ax = plt.subplots(nrows=1, ncols=1, figsize=(12,6))\n",
    "    #ax.plot([0,19], [truemean, truemean], color=\"steelblue\", ls='--', lw=3)\n",
    "    for i in range (n-29):\n",
    "        dfnew = df.sample(i+c)\n",
    "        mean = dfnew.mean()\n",
    "        mean = mean.values[0]\n",
    "        stdev = dfnew.std()\n",
    "        stdev = stdev.values[0]\n",
    "        CIlow = mean-(z*(stdev/np.sqrt(i+c)))\n",
    "        CIhigh = mean+(z*(stdev/np.sqrt(i+c)))\n",
    "        ax.errorbar([i+c, i+c], [CIlow, CIhigh], color = 'sienna')\n",
    "        plt.scatter(i+c,mean,color = 'black', marker = 'x')\n",
    "    \n",
    "    ax.set_xlim([0,100])\n",
    "\n",
    "#CIlow = round(CIlow,4)\n",
    "#CIhigh = round(CIhigh,4)\n",
    "\n",
    "#thirty = proofabove(30)\n",
    "#onehundred = proofabove(100)\n",
    "\n",
    "#print(\"Our 99% CI lies in the interval\", thirty, \"with 30 samples and\", onehundred, \"with 100 samples\")\n",
    "CIcalc(100,.10)"
   ]
  },
  {
   "cell_type": "markdown",
   "metadata": {},
   "source": [
    "**Part E:** Reflect on how your confidence intervals change as the sample sizes $n$ increase from 30 to about 100. Does this make sense? Write a few sentences to reflect on the behavior that you see in your plot from Part D, and why it does/does not make sense."
   ]
  },
  {
   "cell_type": "markdown",
   "metadata": {
    "collapsed": true
   },
   "source": [
    "As our value for n increases the width of the confidence interval will decrease. This makes sense because as we increase the number of samples, intuitively we should be able to more accurately say where the mean 'probably' lies. This aligns with the result we got in part D where we can see a gradual but consistant decrease in the width of the confidence intervals."
   ]
  },
  {
   "cell_type": "markdown",
   "metadata": {
    "collapsed": true
   },
   "source": [
    "<br>\n",
    "\n",
    "---\n",
    "### Notes\n",
    "\n",
    "<a/ id='rad'></a> 200 mSv is somewhere below Chernobyl levels of exposure, but more radiation than you would want with regard to potentially increasing your risk of cancer. It's probably too high, but it is a nice round number! More information [here](https://www.theguardian.com/news/datablog/2011/mar/15/radiation-exposure-levels-guide).\n",
    "\n",
    "[Back to Problem 3](#p3)"
   ]
  },
  {
   "cell_type": "code",
   "execution_count": null,
   "metadata": {
    "collapsed": true
   },
   "outputs": [],
   "source": []
  }
 ],
 "metadata": {
  "kernelspec": {
   "display_name": "Python 3",
   "language": "python",
   "name": "python3"
  },
  "language_info": {
   "codemirror_mode": {
    "name": "ipython",
    "version": 3
   },
   "file_extension": ".py",
   "mimetype": "text/x-python",
   "name": "python",
   "nbconvert_exporter": "python",
   "pygments_lexer": "ipython3",
   "version": "3.7.1"
  }
 },
 "nbformat": 4,
 "nbformat_minor": 2
}
