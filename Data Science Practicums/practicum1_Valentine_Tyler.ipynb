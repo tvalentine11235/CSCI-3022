{
 "cells": [
  {
   "cell_type": "markdown",
   "metadata": {},
   "source": [
    "<a id='top'></a>\n",
    "\n",
    "# CSCI 3022: Intro to Data Science - Spring 2019 Practicum 1\n",
    "***\n",
    "\n",
    "This practicum is due on Canvas by **11:59 PM on Monday March 4**. Your solutions to theoretical questions should be done in Markdown/MathJax directly below the associated question.  Your solutions to computational questions should include any specified Python code and results as well as written commentary on your conclusions.  \n",
    "\n",
    "**Here are the rules:** \n",
    "\n",
    "1. All work, code and analysis, must be your own. \n",
    "1. You may use your course notes, posted lecture slides, textbooks, in-class notebooks, and homework solutions as resources.  You may also search online for answers to general knowledge questions like the form of a probability distribution function or how to perform a particular operation in Python/Pandas. \n",
    "1. This is meant to be like a coding portion of your midterm exam. So, the instructional team will be much less helpful than we typically are with homework. For example, we will not check answers, help debug your code, and so on.\n",
    "1. If something is left open-ended, it is because we want to see how you approach the kinds of problems you will encounter in the wild, where it will not always be clear what sort of tests/methods should be applied. Feel free to ask clarifying questions though.\n",
    "2. You may **NOT** post to message boards or other online resources asking for help.\n",
    "3. You may **NOT** copy-paste solutions *from anywhere*.\n",
    "4. You may **NOT** collaborate with classmates or anyone else.\n",
    "5. In short, **your work must be your own**. It really is that simple.\n",
    "\n",
    "Violation of the above rules will result in an immediate academic sanction (*at the very least*, you will receive a 0 on this practicum or an F in the course, depending on severity), and a trip to the Honor Code Council.\n",
    "\n",
    "**By submitting this assignment, you agree to abide by the rules given above.**\n",
    "\n",
    "***\n",
    "\n",
    "**Name**:  Tyler Valentine\n",
    "\n",
    "***\n",
    "\n",
    "\n",
    "**NOTES**: \n",
    "\n",
    "- You may not use late days on the practicums nor can you drop your practicum grades. \n",
    "- If you have a question for us, post it as a **PRIVATE** message on Piazza.  If we decide that the question is appropriate for the entire class, then we will add it to a Practicum clarifications thread. \n",
    "- Do **NOT** load or use any Python packages that are not available in Anaconda 3.6. \n",
    "- Some problems with code may be autograded.  If we provide a function API **do not** change it.  If we do not provide a function API then you're free to structure your code however you like. \n",
    "- Submit only this Jupyter notebook to Canvas.  Do not compress it using tar, rar, zip, etc. \n",
    "- This should go without saying, but... For any question that asks you to calculate something, you **must show all work to receive credit**. Sparse or nonexistent work will receive sparse or nonexistent credit.\n",
    "\n",
    "---\n",
    "**Shortcuts:**  [Problem 1](#p1) | [Problem 2](#p2) | [Bottom](#bot)\n",
    "\n",
    "---"
   ]
  },
  {
   "cell_type": "code",
   "execution_count": 47,
   "metadata": {},
   "outputs": [],
   "source": [
    "from scipy import stats\n",
    "import numpy as np \n",
    "import pandas as pd\n",
    "import matplotlib.pyplot as plt\n",
    "%matplotlib inline"
   ]
  },
  {
   "cell_type": "markdown",
   "metadata": {},
   "source": [
    "<br>\n",
    "\n",
    "---\n",
    "[Back to top](#top)\n",
    "<a id='p1'></a>\n",
    "\n",
    "### [30 points] Problem 1: The Game of Strife"
   ]
  },
  {
   "cell_type": "markdown",
   "metadata": {},
   "source": [
    "Below, and at the [link here](http://www.cs.colorado.edu/~tonyewong/home/resources/game_of_strife.png), you will find the board for the ***Game of Strife***, a simplified and slightly more depressing version of the [Game of Life](https://en.wikipedia.org/wiki/The_Game_of_Life). Here are some rules:\n",
    "\n",
    "- Players begin at START and may choose to begin the game by either going to college (moving to the right from START) or starting a career (moving downward from START). Players then move along the game board in order of increasing tile number. \n",
    "    - If a player begins by going to college, then they start the game with -\\$20,000. That is indeed negative money, to account for student loan debt.\n",
    "    - If a player begins by starting a career, then they start the game with \\$5,000.\n",
    "\n",
    "<p> </p>\n",
    "\n",
    "- At the beginning of a player's turn, they roll a fair 6-sided die, the outcome of which determines how many tiles they move forward.\n",
    "\n",
    "<p> </p>\n",
    "\n",
    "- When a player reaches a red square (tiles 9, 17 or 30), they must stop at that square for the rest of their turn, even if they would not have landed on the red square.\n",
    "    - When a player stops on the CAREER tile after college (square 9), they are randomly assigned a career and salary from the possibilities: \\$50,000, \\$70,000, \\$90,000, \\$110,000, or \\$130,000 (all with equal probability). The player's actual career is irrelevant to the game, but please make something up so you are emotionally invested in the game.\n",
    "    - If a player starts a career at the beginning of the game, they are assigned a salary randomly from possibilities \\$40,000, \\$50,000, \\$60,000, \\$70,000, or \\$80,000.\n",
    "    - When a player stops on the HOUSE tile, they put a down payment on a house. This down payment is drawn randomly from the set \\$25,000, \\$40,000, \\$55,000 or \\$70,000.\n",
    "    - When a player stops on the RETIRE tile, the player collects a pension equal to half their salary and then the game ends immediately.\n",
    "\n",
    "<p> </p>\n",
    "\n",
    "- When a player lands on or passes a PAYDAY square, they earn money equal to their salary.\n",
    "\n",
    "<p> </p>\n",
    "\n",
    "- When a player lands on a STRIFE square (1, 4, 7, 13, 18, 23 or 29 if they go to college, or 2, 7, 13, 18, 23 or 29 if they start a career immediately at the beginning of the game), they draw a STRIFE card. The STRIFE cards have the player earn \\$5,000 or \\$10,000, or lose \\$1,000, \\$2,000 or \\$5,000.\n",
    "\n",
    "<p> </p>\n",
    "\n",
    "- Players can have negative money, which corresponds to being in debt.\n"
   ]
  },
  {
   "cell_type": "markdown",
   "metadata": {},
   "source": [
    "<img src=\"http://www.cs.colorado.edu/~tonyewong/home/resources/game_of_strife.png\" style=\"width: 700px;\"/>"
   ]
  },
  {
   "cell_type": "markdown",
   "metadata": {},
   "source": [
    "**Part A:** Write code to simulate an entire game of the Game of Strife (with only one player). You may **not** have two separate routines for simulating the game, or a turn, depending on whether a player goes to college or starts a career at the beginning; both possibilities should be accounted for within your one set of codes.\n",
    "\n",
    "Then run two ensembles of at least 10,000 games, one where the player starts by going to college, the other where the player starts a career immediately. Plot density histograms of the players' ending distributions of money on the same set of axes. Be sure to label your axes, include a legend and make your histogram box faces slightly transparent, so both sets of data are visible."
   ]
  },
  {
   "cell_type": "code",
   "execution_count": 48,
   "metadata": {},
   "outputs": [
    {
     "data": {
      "image/png": "[encoded data removed]",
      "text/plain": [
       "<Figure size 864x432 with 1 Axes>"
      ]
     },
     "metadata": {
      "needs_background": "light"
     },
     "output_type": "display_data"
    }
   ],
   "source": [
    "#uInput = \"\"\n",
    "#c = False\n",
    "#while (uInput != 'y' and uInput != 'n'):\n",
    "    #print (\"Welcome to The Game of Strife!\")\n",
    "    #print (\"Would you like to attend college to college (y/n)\")\n",
    "    #uInput = input()\n",
    "    #if (uInput != 'y' and uInput != 'n'):\n",
    "        #print(\"Uhhh... maybe college isn't for you. You're jumping right into the workforce!\")\n",
    "        #uInput = 'n'\n",
    "    #elif (uInput == 'y'):\n",
    "        #print(\"College Rules!\")\n",
    "        #c = True\n",
    "    #else:\n",
    "       #print(\"Yeah, College is hard\")\n",
    "    \n",
    "def strife(c):\n",
    "    die5 = [1,2,3,4,5]\n",
    "    die6 = [1,2,3,4,5,6]\n",
    "    salary = 0\n",
    "    money = -20000\n",
    "    prevSquare = 0\n",
    "    square = 0\n",
    "    strifeCard = [-1000, -2000, -5000, 5000, 10000]\n",
    "    house = [25000, 40000, 55000, 70000]\n",
    "    strifed = False\n",
    "    \n",
    "    if (c == False):\n",
    "        money = 5000\n",
    "        carRoll = np.random.choice(die5)\n",
    "        if (carRoll == 1):\n",
    "            salary = 40000\n",
    "            #print(\"Well, I guess the world needs another SOUND ENGINEER. You now earn \", salary, \"dollars a year\")\n",
    "        \n",
    "        elif (carRoll == 2):\n",
    "            salary = 50000\n",
    "            #print(\"Homer Simpson would be proud. You're a NUCLEAR TECHNICIAN. You now earn\", salary, \"dollars a year\")\n",
    "        \n",
    "        elif (carRoll == 3):\n",
    "            salary = 60000\n",
    "            #print(\"Nerd! You're the company IT PRO and you're earning\", salary, \"dollars a year\")\n",
    "            \n",
    "        elif (carRoll == 4):\n",
    "            salary = 70000\n",
    "            #print(\"You're living out your dream being a TOUR GUIDE in Hawaii. You now earn\", salary, \"dollars a year\")\n",
    "            \n",
    "        elif (carRoll == 5):\n",
    "            salary = 80000\n",
    "            #print(\"You were never good in school... but you've got talent! You're a PORN STAR and you earn\", salary, \"dollars a year\")\n",
    "        \n",
    "        while (square < 10):\n",
    "            prevSquare = square\n",
    "            square = square + np.random.choice(die6)\n",
    "            if (prevSquare < 4 and square >= 4):\n",
    "                money = money + salary\n",
    "            if (prevSquare < 10 and square >= 10):\n",
    "                money = money + salary\n",
    "            if (square == 2 or square == 7 or square == 13):\n",
    "                money = money + np.random.choice(strifeCard) #draw a strife card\n",
    "                strifed = True\n",
    "                #print(\"strife\")\n",
    "    else:\n",
    "        while(square < 9):\n",
    "            prevSquare = square\n",
    "            square = square + np.random.choice(die6)\n",
    "            if (square >= 9):\n",
    "                square = 9\n",
    "                carRoll = np.random.choice(die5)\n",
    "                if (carRoll == 1):\n",
    "                    salary = 50000\n",
    "                    #print(\"You should have tried harder in school. You're a DATA INPUT DRONE and you earn\", salary, \"dollars a year\")\n",
    "                \n",
    "                elif (carRoll == 2):\n",
    "                    salary = 70000\n",
    "                    #print(\"You want to shape the lives of young people. You're a teacher and you earn\", salary, \"dollars a year\")\n",
    "                \n",
    "                elif (carRoll == 3):\n",
    "                    salary = 90000 \n",
    "                    #print(\"You love the excitment of the market! You are a STOCK BROKER and you earn\", salary, \"dollars a year\")\n",
    "                \n",
    "                elif (carRoll == 4):\n",
    "                    salary = 110000\n",
    "                    #print(\"Saving lives and taking care of others has always been in your blood. You're a REGISTERED NURSE and you earn\", salary, \"dollars a year\")\n",
    "                \n",
    "                elif (carRoll == 5):\n",
    "                    salary = 130000\n",
    "                    #print(\"I like computers! You're a talented software engineer and astropysicist so you become a SPACE PORN STAR and you earn\", salary, \"dollars a year\")\n",
    "            elif (square == 1 or square == 4 or square == 7):\n",
    "                money = money + np.random.choice(strifeCard)\n",
    "                strifed = True\n",
    "                #print(\"strife\")\n",
    "            \n",
    "    while (square < 30):\n",
    "        prevSquare = square\n",
    "        square = square + np.random.choice(die6)\n",
    "        if (square >= 30):\n",
    "            money = money + (salary/2)\n",
    "            return money\n",
    "        \n",
    "        elif (prevSquare < 17 and square >= 17):\n",
    "            square = 17\n",
    "            housePrice = np.random.choice(house)\n",
    "            money = money - housePrice\n",
    "        \n",
    "        if ((prevSquare < 10 and square >= 10) or (prevSquare < 16 and square >= 16) or (prevSquare < 22 and square >= 22) or (prevSquare < 27 and square >= 27)):\n",
    "            money = money + salary\n",
    "        \n",
    "        if (square == 13 or square == 18 or square == 23 or square == 29):\n",
    "            money = money + np.random.choice(strifeCard)\n",
    "            strifed = True\n",
    "\n",
    "#print(strife(False))\n",
    "#print(strife(True))\n",
    "    \n",
    "college = []\n",
    "noCollege = []\n",
    "\n",
    "for i in range (10000):\n",
    "    colRes = strife(True)\n",
    "    noRes = strife(False)\n",
    "    college.append(colRes)\n",
    "    noCollege.append(noRes)\n",
    "\n",
    "college = np.array(college)\n",
    "noCollege = np.array(noCollege)\n",
    "\n",
    "\n",
    "fig, ax = plt.subplots(figsize=(12,6))\n",
    "ax.set_title(\"The Game of Strife\", fontsize=20)\n",
    "ax.set_xlabel(\"Retirement Money\", fontsize=16)\n",
    "ax.set_ylabel(\"Probability\", fontsize=16)\n",
    "my_bins = range(0,600000,5000)\n",
    "colors = ['deeppink', 'deepskyblue']\n",
    "plt.hist([college, noCollege], my_bins, histtype = 'bar', density = True, color = colors)\n",
    "\n",
    "legend = ax.legend([\"College\",\"Not College\"])\n",
    "\n",
    "            \n",
    "        \n",
    "    \n",
    "            \n",
    "    "
   ]
  },
  {
   "cell_type": "markdown",
   "metadata": {},
   "source": [
    "**Part B:** Use concepts from class to describe the two distributions of player cash at retirement, depending on whether or not they went to college or immediately started a career. How are the two distributions similar? How do they differ? Address characteristics like skew, modality, central tendency and spread. How could the rules of the Game of Strife account for these differences?"
   ]
  },
  {
   "cell_type": "code",
   "execution_count": 49,
   "metadata": {},
   "outputs": [
    {
     "name": "stdout",
     "output_type": "stream",
     "text": [
      "Skew for college strifers is:\n",
      "0.13724075929257923\n",
      "Skew for non-college strifers is:\n",
      "0.10168096251515357\n",
      "Variance for college strifers is:\n",
      "16351090686.71\n",
      "Variance for non-college strifers is:\n",
      "6494242075.59\n",
      "Most common retirement money amount for college strifers is:\n",
      "ModeResult(mode=array([270000.]), count=array([110]))\n",
      "Most common retirement money amount for non-college strifers is:\n",
      "ModeResult(mode=array([250000.]), count=array([162]))\n",
      "Median retirement for college strifers:\n",
      "315000.0\n",
      "Median retirement for non-college strifers:\n",
      "265000.0\n",
      "Maximum retirement money amount for college strifers:\n",
      "570000.0\n",
      "Maximum retirement money amount for non-college strifers:\n",
      "445000.0\n",
      "Minimum retirement money amount for college strifers:\n",
      "73000.0\n",
      "Minimum retirement money amount for non-college strifers:\n",
      "104000.0\n",
      "Spread for college strifers:\n",
      "497000.0\n",
      "Spread for non-college strifers:\n",
      "341000.0\n"
     ]
    }
   ],
   "source": [
    "print(\"Skew for college strifers is:\") \n",
    "print(stats.skew(college))\n",
    "print(\"Skew for non-college strifers is:\")\n",
    "print(stats.skew(noCollege))\n",
    "print(\"Variance for college strifers is:\") \n",
    "print(np.var(college))\n",
    "print(\"Variance for non-college strifers is:\")\n",
    "print(np.var(noCollege))\n",
    "print(\"Most common retirement money amount for college strifers is:\") \n",
    "print(stats.mode(college))\n",
    "print(\"Most common retirement money amount for non-college strifers is:\")\n",
    "print(stats.mode(noCollege))\n",
    "print(\"Median retirement for college strifers:\")\n",
    "print(np.median(college))\n",
    "print(\"Median retirement for non-college strifers:\")\n",
    "print(np.median(noCollege))\n",
    "print(\"Maximum retirement money amount for college strifers:\")\n",
    "print(np.max(college))\n",
    "print(\"Maximum retirement money amount for non-college strifers:\") \n",
    "print(np.max(noCollege))\n",
    "print(\"Minimum retirement money amount for college strifers:\")\n",
    "print(np.min(college))\n",
    "print(\"Minimum retirement money amount for non-college strifers:\")\n",
    "print(np.min(noCollege))\n",
    "spreadCollege = (np.max(college) - np.min(college))\n",
    "spreadnoCollege = (np.max(noCollege) - np.min(noCollege))\n",
    "print(\"Spread for college strifers:\")\n",
    "print(spreadCollege)\n",
    "print(\"Spread for non-college strifers:\")\n",
    "print(spreadnoCollege)"
   ]
  },
  {
   "cell_type": "markdown",
   "metadata": {},
   "source": [
    "As one might expect strifers who went to college represented the top end of the spectrum when it came to retirement money. They also represented the lowest value -- probably because of debt and a bad career role.\n",
    "We can see from the data that there was a positive skew for both scenerios, however, it was more heavily weighted towards positive for the college strifers. This indicates that there was a heavier distribution in the higher retirement amounts for the college educated strifers. The rules of the game were such that unless players were unluck on both their career and house roles, they would have a good chance of being at or above the median.\n",
    "The mode for both college and non-college strifers fell somewhere near the median which is expected, the bins close to the median typically accumulated the most strifers as it took a less likely series of events to move towards the extremes. It is worth noting the disparity between the central tendency of the two groups however. The college strifers had a more even distribution out near their min and max values. This is likely because of the large gaps between earnings for the college jobs combined with the debt incurred at the beginning of the game. Similarly spread was much larger for the college strifers, again because of the inital debt that put them $25000 in the hole and the gap between the best jobs and the worst jobs."
   ]
  },
  {
   "cell_type": "markdown",
   "metadata": {},
   "source": [
    "**Part C:**  Use your results from Part A to estimate the probability that a person would retire with at least \\$300,000, if they went to college."
   ]
  },
  {
   "cell_type": "code",
   "execution_count": 50,
   "metadata": {},
   "outputs": [
    {
     "name": "stdout",
     "output_type": "stream",
     "text": [
      "0.531\n"
     ]
    }
   ],
   "source": [
    "c = 0\n",
    "for i in range (len(college)):\n",
    "    if (college[i] >= 300000):\n",
    "        c += 1\n",
    "\n",
    "probC = c/len(college)\n",
    "\n",
    "print(probC)\n",
    "\n",
    "\n",
    "        "
   ]
  },
  {
   "cell_type": "markdown",
   "metadata": {},
   "source": [
    "**Part D:** The United States [Bureau of Labor Statistics](https://www.bls.gov/news.release/hsgec.nr0.htm) has found that approximately 66.7% of students go to college. Suppose players of the Game of Strife choose to go to college at the beginning of the game with this probability of $P(\\text{college}) = 0.667$.\n",
    "\n",
    "Use your two ensembles of games from Part A to estimate the probability that an individual, whose college education status is unknown, will retire in the Game of Strife with at least \\$300,000. State any relevant probability laws, theorems or rules that you use, and show all calculations."
   ]
  },
  {
   "cell_type": "code",
   "execution_count": 51,
   "metadata": {},
   "outputs": [
    {
     "name": "stdout",
     "output_type": "stream",
     "text": [
      "There is a 48.06 percent chance that a player will retire with $300,000 given a 66.7% chance of going to college\n"
     ]
    }
   ],
   "source": [
    "c = 0\n",
    "nc = 0\n",
    "\n",
    "for i in range(10000):\n",
    "    if (college[i] >= 300000):\n",
    "        c += 1\n",
    "    if (noCollege[i] >= 300000):\n",
    "        nc += 1\n",
    "\n",
    "prob300k = round((c*.667 + nc*.333)/100,2)\n",
    "\n",
    "print(\"There is a\", prob300k, \"percent chance that a player will retire with $300,000 given a 66.7% chance of going to college\")\n",
    "        \n",
    "\n",
    "\n"
   ]
  },
  {
   "cell_type": "markdown",
   "metadata": {},
   "source": [
    "This code utilizes the Law of Total Probability.\n",
    "\n",
    "Probability of retiring with 300,000 dollars is equal to the probability of retiring with 300,000 dollars given that a player went to college times the probability they went to college plus the probability of retiring with 300,000 dollars given that they didnt go to college times the probability that they didnt go to college.\n",
    "\n",
    "Or:\n",
    "\n",
    "P(R300k) = P(R300k|C) * P(C) + P(R300k|NC) * P(NC)"
   ]
  },
  {
   "cell_type": "markdown",
   "metadata": {},
   "source": [
    "**Part E:** Let's see how important the Strife tiles are in affecting a player's final money. What is the probability that a player ends the game with at least \\$300,000 in cash if they landed on at least one Strife square? You may want to modify your previous codes to run additional simulations for this part. Use the same method as Part D to address the proportion of players who begin by going to college versus starting a career."
   ]
  },
  {
   "cell_type": "code",
   "execution_count": 52,
   "metadata": {},
   "outputs": [
    {
     "name": "stdout",
     "output_type": "stream",
     "text": [
      "There is a 41.48 percent chance that a player will retire with $300,000 given a 66.7% chance that they went to college and that they landed on a STRIFE square at least once\n"
     ]
    }
   ],
   "source": [
    "cCount = 0\n",
    "ncCount = 0\n",
    "\n",
    "def strife(c):\n",
    "    die5 = [1,2,3,4,5]\n",
    "    die6 = [1,2,3,4,5,6]\n",
    "    salary = 0\n",
    "    money = -20000\n",
    "    prevSquare = 0\n",
    "    square = 0\n",
    "    strifeCard = [-1000, -2000, -5000, 5000, 10000]\n",
    "    house = [25000, 40000, 55000, 70000]\n",
    "    strifed = False\n",
    "    \n",
    "    if (c == False):\n",
    "        money = 5000\n",
    "        carRoll = np.random.choice(die5)\n",
    "        if (carRoll == 1):\n",
    "            salary = 40000\n",
    "            #print(\"Well, I guess the world needs another SOUND ENGINEER. You now earn \", salary, \"dollars a year\")\n",
    "        \n",
    "        elif (carRoll == 2):\n",
    "            salary = 50000\n",
    "            #print(\"Homer Simpson would be proud. You're a NUCLEAR TECHNICIAN. You now earn\", salary, \"dollars a year\")\n",
    "        \n",
    "        elif (carRoll == 3):\n",
    "            salary = 60000\n",
    "            #print(\"Nerd! You're the company IT PRO and you're earning\", salary, \"dollars a year\")\n",
    "            \n",
    "        elif (carRoll == 4):\n",
    "            salary = 70000\n",
    "            #print(\"You're living out your dream being a TOUR GUIDE in Hawaii. You now earn\", salary, \"dollars a year\")\n",
    "            \n",
    "        elif (carRoll == 5):\n",
    "            salary = 80000\n",
    "            #print(\"You were never good in school... but you've got talent! You're a PORN STAR and you earn\", salary, \"dollars a year\")\n",
    "        \n",
    "        while (square < 10):\n",
    "            prevSquare = square\n",
    "            square = square + np.random.choice(die6)\n",
    "            if (prevSquare < 4 and square >= 4):\n",
    "                money = money + salary\n",
    "            if (prevSquare < 10 and square >= 10):\n",
    "                money = money + salary\n",
    "            if (square == 2 or square == 7 or square == 13):\n",
    "                money = money + np.random.choice(strifeCard) #draw a strife card\n",
    "                strifed = True\n",
    "                #print(\"strife\")\n",
    "    else:\n",
    "        while(square < 9):\n",
    "            prevSquare = square\n",
    "            square = square + np.random.choice(die6)\n",
    "            if (square >= 9):\n",
    "                square = 9\n",
    "                carRoll = np.random.choice(die5)\n",
    "                if (carRoll == 1):\n",
    "                    salary = 50000\n",
    "                    #print(\"You should have tried harder in school. You're a DATA INPUT DRONE and you earn\", salary, \"dollars a year\")\n",
    "                \n",
    "                elif (carRoll == 2):\n",
    "                    salary = 70000\n",
    "                    #print(\"You want to shape the lives of young people. You're a teacher and you earn\", salary, \"dollars a year\")\n",
    "                \n",
    "                elif (carRoll == 3):\n",
    "                    salary = 90000 \n",
    "                    #print(\"You love the excitment of the market! You are a STOCK BROKER and you earn\", salary, \"dollars a year\")\n",
    "                \n",
    "                elif (carRoll == 4):\n",
    "                    salary = 110000\n",
    "                    #print(\"Saving lives and taking care of others has always been in your blood. You're a REGISTERED NURSE and you earn\", salary, \"dollars a year\")\n",
    "                \n",
    "                elif (carRoll == 5):\n",
    "                    salary = 130000\n",
    "                    #print(\"I like computers! You're a talented software engineer and astropysicist so you become a SPACE PORN STAR and you earn\", salary, \"dollars a year\")\n",
    "            elif (square == 1 or square == 4 or square == 7):\n",
    "                money = money + np.random.choice(strifeCard)\n",
    "                strifed = True\n",
    "                #print(\"strife\")\n",
    "            \n",
    "    while (square < 30):\n",
    "        prevSquare = square\n",
    "        square = square + np.random.choice(die6)\n",
    "        if (square >= 30):\n",
    "            money = money + (salary/2)\n",
    "            return [money, strifed]\n",
    "        \n",
    "        elif (prevSquare < 17 and square >= 17):\n",
    "            square = 17\n",
    "            housePrice = np.random.choice(house)\n",
    "            money = money - housePrice\n",
    "        \n",
    "        if ((prevSquare < 10 and square >= 10) or (prevSquare < 16 and square >= 16) or (prevSquare < 22 and square >= 22) or (prevSquare < 27 and square >= 27)):\n",
    "            money = money + salary\n",
    "        \n",
    "        if (square == 13 or square == 18 or square == 23 or square == 29):\n",
    "            money = money + np.random.choice(strifeCard)\n",
    "            strifed = True\n",
    "\n",
    "for i in range (10000):\n",
    "    c = strife(True)\n",
    "    if ((c[0] >= 300000) and (c[1] == True)):\n",
    "        cCount += 1\n",
    "for i in range (10000):\n",
    "    nc = strife(False)\n",
    "    if ((nc[0] >= 300000) and (nc[1] == True)):\n",
    "        ncCount += 1\n",
    "\n",
    "prob300kSTR = round((cCount*.667 + ncCount*.333)/100,2)\n",
    "\n",
    "print(\"There is a\", prob300kSTR, \"percent chance that a player will retire with $300,000 given a 66.7% chance that they went to college and that they landed on a STRIFE square at least once\")\n",
    "        "
   ]
  },
  {
   "cell_type": "markdown",
   "metadata": {},
   "source": [
    "We are once again using the Law of Total Probability. The return statements and counters were altered to take into account landing on a Strife square."
   ]
  },
  {
   "cell_type": "markdown",
   "metadata": {},
   "source": [
    "<br>\n",
    "\n",
    "---\n",
    "[Back to top](#top)\n",
    "<a id='p2'></a>\n",
    "\n",
    "### [30 points] Problem 2: Sonic or Tails?"
   ]
  },
  {
   "cell_type": "markdown",
   "metadata": {},
   "source": [
    "<img src=\"http://www.cs.colorado.edu/~tonyewong/home/resources/hedgehog_coin.jpg\" style=\"width: 500px;\"/>"
   ]
  },
  {
   "cell_type": "markdown",
   "metadata": {},
   "source": [
    "In the file `flipadelphia.csv` you will find the results of an experiment that was conducted by Amy, the famous hedgehog data scientist, as she was flipping a coin one sunny day in a meadow. This is no ordinary coin, however: this coin has on one side Sonic, and on the other side Tails! The two sides of this coin are above, and at [this link](http://www.cs.colorado.edu/~tonyewong/home/resources/hedgehog_coin.jpg).\n",
    "\n",
    "In Amy's experiment she repeatedly flipped the coin until it came up Sonic. After each trial, she recorded her observed value for $X=$ the number of flips required to see the first Sonic. The results are stored in `flipadelphia.csv`.\n",
    "\n",
    "Amy has a lot of coins for performing cool data science experiments, and these coins have different biases (not all unique). Amy is a forgetful hedgehog, so she isn't sure which coin she was flipping. Her coins have biases of $p_S=.2, .3, .4, .5, .6, .7$ and $.8$, where $p_S$ is the probability of any given flip coming up Sonic."
   ]
  },
  {
   "cell_type": "markdown",
   "metadata": {},
   "source": [
    "**Part A:** Read in the data set and make a frequency histogram of the data. Be sure to label your axes appropriately, and center your bins above the integer numbers of flips (0, 1, 2, etc...). What is the name of the distribution for the random variable that Amy observed and recorded in her data table?"
   ]
  },
  {
   "cell_type": "code",
   "execution_count": 53,
   "metadata": {},
   "outputs": [
    {
     "data": {
      "text/html": [
       "<div>\n",
       "<style scoped>\n",
       "    .dataframe tbody tr th:only-of-type {\n",
       "        vertical-align: middle;\n",
       "    }\n",
       "\n",
       "    .dataframe tbody tr th {\n",
       "        vertical-align: top;\n",
       "    }\n",
       "\n",
       "    .dataframe thead th {\n",
       "        text-align: right;\n",
       "    }\n",
       "</style>\n",
       "<table border=\"1\" class=\"dataframe\">\n",
       "  <thead>\n",
       "    <tr style=\"text-align: right;\">\n",
       "      <th></th>\n",
       "      <th>1</th>\n",
       "    </tr>\n",
       "  </thead>\n",
       "  <tbody>\n",
       "    <tr>\n",
       "      <th>0</th>\n",
       "      <td>5</td>\n",
       "    </tr>\n",
       "    <tr>\n",
       "      <th>1</th>\n",
       "      <td>1</td>\n",
       "    </tr>\n",
       "    <tr>\n",
       "      <th>2</th>\n",
       "      <td>5</td>\n",
       "    </tr>\n",
       "    <tr>\n",
       "      <th>3</th>\n",
       "      <td>2</td>\n",
       "    </tr>\n",
       "    <tr>\n",
       "      <th>4</th>\n",
       "      <td>2</td>\n",
       "    </tr>\n",
       "    <tr>\n",
       "      <th>5</th>\n",
       "      <td>3</td>\n",
       "    </tr>\n",
       "    <tr>\n",
       "      <th>6</th>\n",
       "      <td>2</td>\n",
       "    </tr>\n",
       "    <tr>\n",
       "      <th>7</th>\n",
       "      <td>1</td>\n",
       "    </tr>\n",
       "    <tr>\n",
       "      <th>8</th>\n",
       "      <td>1</td>\n",
       "    </tr>\n",
       "  </tbody>\n",
       "</table>\n",
       "</div>"
      ],
      "text/plain": [
       "   1\n",
       "0  5\n",
       "1  1\n",
       "2  5\n",
       "3  2\n",
       "4  2\n",
       "5  3\n",
       "6  2\n",
       "7  1\n",
       "8  1"
      ]
     },
     "execution_count": 53,
     "metadata": {},
     "output_type": "execute_result"
    },
    {
     "data": {
      "image/png": "[encoded data removed]",
      "text/plain": [
       "<Figure size 576x576 with 1 Axes>"
      ]
     },
     "metadata": {
      "needs_background": "light"
     },
     "output_type": "display_data"
    }
   ],
   "source": [
    "df = pd.read_csv(\"flipadelphia.csv\")\n",
    "fig, ax = plt.subplots(figsize=(8,8))\n",
    "ax.set_title(\"The Game of Strife\", fontsize=20)\n",
    "ax.set_xlabel(\"Number of Flips Needed\", fontsize=16)\n",
    "ax.set_ylabel(\"Frequency\", fontsize=16)\n",
    "#my_bins = np.histogram_bin_edges()\n",
    "my_bins = range(0,7,1)\n",
    "colors = ['limegreen']\n",
    "df.hist(ax = ax, bins = my_bins, color = colors, align = 'left', rwidth = .9)\n",
    "\n",
    "df.head(10)"
   ]
  },
  {
   "cell_type": "markdown",
   "metadata": {},
   "source": [
    "Because this histogram is representing the number of coin flips needed to observe the first instance of flipping a head, we can say that it is a geometric distribution."
   ]
  },
  {
   "cell_type": "markdown",
   "metadata": {},
   "source": [
    "**Part B:** Use the distribution that you identified in Part A to determine $P(X=n \\mid p_S=0.5)$, the probability that Amy would observe the first Sonic flip on the $n$-th flip, assuming that the coin is fair ($p_S=0.5$), for each of the $n$ from her 10 trials in her data set. Then, combine these to find the overall *likelihood* that she would observe her entire data set, assuming that the coin was fair. That is, estimate $P(\\text{data} \\mid p_S=0.5)$. Be sure to note any assumptions you make about how the outcome of one trial relates to the outcomes of the others.\n",
    "\n",
    "If it helps to have some mathematical notation, consider that Amy's data set consists of the results of all 10 of her trials: $$\\text{data} = (X_1 = n_1) \\cap (X_2 = n_2) \\cap \\ldots (X_{10} = n_{10})$$"
   ]
  },
  {
   "cell_type": "markdown",
   "metadata": {
    "collapsed": true
   },
   "source": [
    "$P(X = 5 | P_s = 0.5) = (1 - 0.5)^{5-1} * 0.5 = \\frac{1}{32}$ \n",
    "\n",
    "$P(X = 1 | P_s = 0.5) = (1 - 0.5)^{1-1} * 0.5 = \\frac{1}{2}$\n",
    "\n",
    "$P(X = 5 | P_s = 0.5) = (1 - 0.5)^{5-1} * 0.5 = \\frac{1}{32}$ \n",
    "\n",
    "$P(X = 2 | P_s = 0.5) = (1 - 0.5)^{2-1} * 0.5 = \\frac{1}{4}$ \n",
    "\n",
    "$P(X = 2 | P_s = 0.5) = (1 - 0.5)^{2-1} * 0.5 = \\frac{1}{4}$ \n",
    "\n",
    "$P(X = 3 | P_s = 0.5) = (1 - 0.5)^{3-1} * 0.5 = \\frac{1}{8}$\n",
    "\n",
    "$P(X = 2 | P_s = 0.5) = (1 - 0.5)^{2-1} * 0.5 = \\frac{1}{4}$\n",
    "\n",
    "$P(X = 1 | P_s = 0.5) = (1 - 0.5)^{1-1} * 0.5 = \\frac{1}{2}$\n",
    "\n",
    "$P(X = 1 | P_s = 0.5) = (1 - 0.5)^{1-1} * 0.5 = \\frac{1}{2}$\n",
    "\n",
    "Probability that she would observe her entire data set given that it was a fair coin:\n",
    "\n",
    "$P(data set | P_s = 0.5) = \\frac{1}{32}+\\frac{1}{2}+\\frac{1}{32}+\\frac{1}{4}+\\frac{1}{4}+\\frac{1}{8}+\\frac{1}{4}+\\frac{1}{2}+\\frac{1}{2} = \\frac{1}{4194304}$\n",
    "\n",
    "Note that each coin flip is independent of the others and that each trial is also independent of the other trials. "
   ]
  },
  {
   "cell_type": "markdown",
   "metadata": {},
   "source": [
    "**Part C:** Suppose before we observed Amy's data set, we believe that each of the seven possible coin biases occur with equal probability, $P(p_S)$. This is called the _prior distribution_ for the coin bias, $p_S$, because we have not yet taken into account Amy's data set.\n",
    "* Now, estimate the probability of each possible bias, given the data: $P(p_S \\mid \\text{data})$.  This is called the _posterior distribution_ for the coin bias, because it is our assessment of the coin's bias _after_ we have accounted for Amy's data.\n",
    "* Make a line plot of the bias along x-axis versus the posterior probability of that bias along the y-axis, and be sure to label your axes. \n",
    "* Comment on your plot. What appears to be the most probable value for the bias, $p_S$? This is called the _maximum a posteriori_ estimate, because it maximizes the posterior distribution and sounds very, *very* fancy."
   ]
  },
  {
   "cell_type": "code",
   "execution_count": 54,
   "metadata": {},
   "outputs": [
    {
     "name": "stdout",
     "output_type": "stream",
     "text": [
      "[3.22118296e-02 2.18243548e-01 3.91815649e-01 2.72844810e-01\n",
      " 7.73956838e-02 7.36265198e-03 1.25827459e-04]\n"
     ]
    },
    {
     "data": {
      "text/plain": [
       "Text(0, 0.5, 'Posterior Probability')"
      ]
     },
     "execution_count": 54,
     "metadata": {},
     "output_type": "execute_result"
    },
    {
     "data": {
      "image/png": "[encoded data removed]",
      "text/plain": [
       "<Figure size 864x432 with 1 Axes>"
      ]
     },
     "metadata": {
      "needs_background": "light"
     },
     "output_type": "display_data"
    }
   ],
   "source": [
    "p = [.2,.3,.4,.5,.6,.7,.8]\n",
    "k = [5,1,5,2,2,3,2,1,1]\n",
    "m = 1 # probabilities for each value in the dataset\n",
    "mV = [] # array of probabilities given the dataset for each biased coin \n",
    "\n",
    "def prob(p,k): \n",
    "    return (1-p)**(k-1) * p\n",
    "\n",
    "for i in range(len(p)):\n",
    "    for j in range(len(k)):\n",
    "        m = m * prob(p[i],k[j])\n",
    "    mV.append(m)\n",
    "    m = 1\n",
    "\n",
    "mV = np.array(mV)\n",
    "mVsum = np.sum(mV)\n",
    "LTP = mVsum/7\n",
    "\n",
    "biasProb = []\n",
    "\n",
    "for i in range (len(mV)):\n",
    "    biasProb.append((mV[i]/7)/LTP)\n",
    "\n",
    "biasProb = np.array(biasProb)\n",
    "\n",
    "print(biasProb)\n",
    "#np.sum(biasProb))\n",
    "\n",
    "fig, ax = plt.subplots(figsize=(12,6))\n",
    "plt.plot(p,biasProb,color = 'darkred',marker = 'o')\n",
    "ax.set_title(\"Posterior Probability Distribution for Each Coin Bias\", fontsize=20)\n",
    "ax.set_xlabel(\"Coin Biases\", fontsize=16)\n",
    "ax.set_ylabel(\"Posterior Probability\", fontsize=16)\n",
    "\n"
   ]
  },
  {
   "cell_type": "markdown",
   "metadata": {},
   "source": [
    "What a plot! I particularly like how I got little circles where the x-axis values are!\n",
    "\n",
    "From the data, it looks most likely that the coin Amy was flipping (the maximum a posteriori estimate) was the $P_s = 0.4$ coin. There is about a 39% chance that this is the case. \n",
    "\n",
    "As an additional note, there was around a 88% chance that she was flipping either the $P_s = 0.3$ coin, the $P_s = 0.4$ coin, or the $P_s = 0.5$ coin."
   ]
  },
  {
   "cell_type": "markdown",
   "metadata": {},
   "source": [
    "**Part D:** Now suppose the prior probability distribution of the coins is not uniform. Namely, suppose these probabilities follow a ***triangular distribution***, centered at $p_S=0.5$:\n",
    "$$P(p_S = p) = \\begin{cases} mp & p \\leq 0.5 \\\\ m(1-p) & p > 0.5 \\end{cases}$$\n",
    "\n",
    "Determine what value the constant $m$ should have in order to make $P(p_S = p)$ is a valid probability mass function. Remember, $p_S \\in \\{.2, .3, \\ldots , .7, .8\\}$ and is discrete."
   ]
  },
  {
   "cell_type": "code",
   "execution_count": 55,
   "metadata": {},
   "outputs": [
    {
     "name": "stdout",
     "output_type": "stream",
     "text": [
      "The value of m is 0.4347826086956522 or 10/23\n"
     ]
    }
   ],
   "source": [
    "p = [.2,.3,.4,.5,.6,.7,.8]\n",
    "x = .2+.3+.4+.5+(1-.6)+(1-.7)+(1-.8) # this all needs to equal 1\n",
    "#print(x)\n",
    "mD = 1/x\n",
    "print(\"The value of m is\", mD, \"or 10/23\")\n",
    "\n",
    "    "
   ]
  },
  {
   "cell_type": "markdown",
   "metadata": {},
   "source": [
    "**Part E:** Compare, using words, the triangular prior distribution (this part) and the uniform prior distribution (from Part C).  What does each represent in terms of our _prior_ knowledge of the coin bias?"
   ]
  },
  {
   "cell_type": "markdown",
   "metadata": {
    "collapsed": true
   },
   "source": [
    "In part C there was an equal chance of a given coin being selected. In part D, the fair coin has the highest chance of being selected as 0.5 * m will be the largest value. For every value in 0.1 increments from 0.5 the value will decrease evenly in the positive and negative direction (0.4 and (1-0.6) are the same). Thus, if the chance of selection follows our triangular distribution we know there is a better chance of the 0.5 coin, and to a lesser extent the coins around it, being selected. Conversly, if the coins follow the distribution from part C there will be an equal chance of any coin being selected.   "
   ]
  },
  {
   "cell_type": "markdown",
   "metadata": {},
   "source": [
    "**Part F:** Modify your calculation of the posterior distribution from Part C to use the new triangular prior distribution from Part D. Make a plot of the results that includes both posterior distribution using the uniform prior (from Part C) and the posterior distribution using the triangular prior (from Part D) in the same figure panel. Be sure to label your axes and include a legend."
   ]
  },
  {
   "cell_type": "code",
   "execution_count": 56,
   "metadata": {},
   "outputs": [
    {
     "name": "stdout",
     "output_type": "stream",
     "text": [
      "[0.016176430708762173, 0.16439930667266708, 0.3935311208631256, 0.3425492444824444, 0.07773454239271618, 0.0055461656978284335, 6.318918245610202e-05]\n"
     ]
    },
    {
     "data": {
      "text/plain": [
       "<matplotlib.legend.Legend at 0x11719b88c50>"
      ]
     },
     "execution_count": 56,
     "metadata": {},
     "output_type": "execute_result"
    },
    {
     "data": {
      "image/png": "[encoded data removed]",
      "text/plain": [
       "<Figure size 864x432 with 1 Axes>"
      ]
     },
     "metadata": {
      "needs_background": "light"
     },
     "output_type": "display_data"
    }
   ],
   "source": [
    "pF = [.2,.3,.4,.5,.6,.7,.8]\n",
    "kF = [5,1,5,2,2,3,2,1,1]\n",
    "probs = [.2,.3,.4,.5,.4,.3,.2]\n",
    "mF = 1 # probabilities for each value in the dataset\n",
    "mVF = [] # array of probabilities given the dataset for each biased coin \n",
    "\n",
    "def prob(p,k): \n",
    "    return (1-p)**(k-1) * p\n",
    "\n",
    "for i in range(len(pF)):\n",
    "    for j in range(len(kF)):\n",
    "        mF = mF * prob(pF[i],kF[j])\n",
    "    mVF.append(mF)\n",
    "    mF = 1\n",
    "\n",
    "mVF = np.array(mVF)\n",
    "LTPF = 0\n",
    "\n",
    "for i in range (len(mVF)):\n",
    "    LTPF = LTPF + (mVF[i]*(mD*probs[i]))\n",
    "\n",
    "biasProbF = []\n",
    "\n",
    "for i in range (len(mVF)):\n",
    "    biasProbF.append((mVF[i]*(mD*probs[i]))/LTPF)\n",
    "\n",
    "print(biasProbF)\n",
    "\n",
    "fig, ax = plt.subplots(figsize=(12,6))\n",
    "plt.plot(p,biasProb,color = 'darkred',marker = 'o')\n",
    "plt.plot(pF,biasProbF,color = 'cyan', marker = 'o')\n",
    "ax.set_title(\"Posterior Probability Distribution for Each Coin Bias\", fontsize=20)\n",
    "ax.set_xlabel(\"Coin Biases\", fontsize=16)\n",
    "ax.set_ylabel(\"Posterior Probability\", fontsize=16)\n",
    "\n",
    "plt.legend(['Normal Distribution','Triangular Distribution'])\n",
    "\n",
    "\n"
   ]
  },
  {
   "cell_type": "markdown",
   "metadata": {},
   "source": [
    "**Part G:** Comment on the effect of your choice of different prior distribution on your posterior inference for the most probable coin bias."
   ]
  },
  {
   "cell_type": "markdown",
   "metadata": {
    "collapsed": true
   },
   "source": [
    "Given a normal distribution, the 0.4 coin has the highest chance of being the coin that was selected with the odds of 0.5 and 0.3 tailing off fairly dramtically. Given a triangular distribution 0.4 is still the most likely coin but the chances that 0.5 was was the coin selected are raised significantly. I both cases the odds of 0.2, 0.6, 0.7 or, 0.8 being selected remain very low."
   ]
  },
  {
   "cell_type": "markdown",
   "metadata": {},
   "source": [
    "<br>\n",
    "\n",
    "---\n",
    "[Back to top](#top)\n",
    "<a id='bot'></a>"
   ]
  }
 ],
 "metadata": {
  "kernelspec": {
   "display_name": "Python 3",
   "language": "python",
   "name": "python3"
  },
  "language_info": {
   "codemirror_mode": {
    "name": "ipython",
    "version": 3
   },
   "file_extension": ".py",
   "mimetype": "text/x-python",
   "name": "python",
   "nbconvert_exporter": "python",
   "pygments_lexer": "ipython3",
   "version": "3.7.1"
  }
 },
 "nbformat": 4,
 "nbformat_minor": 2
}
